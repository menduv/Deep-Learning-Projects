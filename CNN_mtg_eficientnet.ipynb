{
  "cells": [
    {
      "cell_type": "markdown",
      "metadata": {
        "id": "view-in-github"
      },
      "source": [
        "<a href=\"https://colab.research.google.com/github/menduv/mtg-Jamendo/blob/main/CNN_mtg.ipynb\" target=\"_parent\"><img src=\"https://colab.research.google.com/assets/colab-badge.svg\" alt=\"Open In Colab\"/></a>"
      ]
    },
    {
      "cell_type": "markdown",
      "metadata": {
        "id": "EH_hCeLoQgGs"
      },
      "source": [
        "# CNN model for classification of audio files with genre tags"
      ]
    },
    {
      "cell_type": "code",
      "execution_count": 1,
      "metadata": {
        "colab": {
          "base_uri": "https://localhost:8080/"
        },
        "id": "3SKzNh0LxEGJ",
        "outputId": "57702220-73d4-4c96-b758-4b5ddc004dd0"
      },
      "outputs": [
        {
          "name": "stdout",
          "output_type": "stream",
          "text": [
            "Mounted at /content/drive\n"
          ]
        }
      ],
      "source": [
        "#connecting to google drive\n",
        "from google.colab import drive\n",
        "drive.mount('/content/drive')"
      ]
    },
    {
      "cell_type": "code",
      "execution_count": 2,
      "metadata": {
        "id": "ODchbT-XzZka"
      },
      "outputs": [],
      "source": [
        "#importing the spectrogram images stored in a zip file\n",
        "import zipfile\n",
        "with zipfile.ZipFile(\"C:/Users/mendu/Desktop/Deep-Learning-Projects/data/cropped_archive_22.zip\",\"r\") as zip_ref:\n",
        "    zip_ref.extractall(\"/content/sample_mel\")"
      ]
    },
    {
      "cell_type": "code",
      "execution_count": 1,
      "metadata": {
        "id": "_twkfAbJ2DtV"
      },
      "outputs": [
        {
          "name": "stdout",
          "output_type": "stream",
          "text": [
            "WARNING:tensorflow:From c:\\Users\\mendu\\anaconda3\\Lib\\site-packages\\keras\\src\\losses.py:2976: The name tf.losses.sparse_softmax_cross_entropy is deprecated. Please use tf.compat.v1.losses.sparse_softmax_cross_entropy instead.\n",
            "\n"
          ]
        }
      ],
      "source": [
        "#importing necessary libraries\n",
        "import numpy as np\n",
        "import pandas as pd\n",
        "pd.options.mode.chained_assignment = None \n",
        "import os\n",
        "import matplotlib.pyplot as plt\n",
        "import tensorflow as tf\n",
        "from sklearn.model_selection import train_test_split\n",
        "from tensorflow.keras.models import Sequential\n",
        "from tensorflow.keras.layers import Conv2D, MaxPooling2D, Flatten, Dense, Dropout\n",
        "from tensorflow.keras.preprocessing.image import ImageDataGenerator\n",
        "from tensorflow.keras.regularizers import l2\n",
        "from keras.models import load_model\n",
        "from tensorflow.keras.optimizers import Adam\n",
        "from tensorflow.keras.applications import EfficientNetB0\n",
        "from tensorflow.keras import regularizers"
      ]
    },
    {
      "cell_type": "code",
      "execution_count": 3,
      "metadata": {
        "colab": {
          "base_uri": "https://localhost:8080/"
        },
        "id": "t4BVZblv1kAl",
        "outputId": "9679d901-fc3c-48be-a984-eec4d52efb7b"
      },
      "outputs": [
        {
          "name": "stdout",
          "output_type": "stream",
          "text": [
            "Count of npy files:  4480\n",
            "Size of image:  (96, 1406)\n"
          ]
        }
      ],
      "source": [
        "#checking the no. of spectrograms and their size\n",
        "mel_dir = 'C:/Users/mendu/Desktop/Deep-Learning-Projects/data/cropped_mel'\n",
        "mel_list = os.listdir(mel_dir)\n",
        "mel_npy = np.load(f'{mel_dir}/{mel_list[25]}')\n",
        "print('Count of npy files: ', len(mel_list))\n",
        "print('Size of image: ', mel_npy.shape)"
      ]
    },
    {
      "cell_type": "markdown",
      "metadata": {
        "id": "_VTCxGp8b0iX"
      },
      "source": [
        "## Loading the mtg dataframe and filtering it to include top 5 genres from the sample"
      ]
    },
    {
      "cell_type": "code",
      "execution_count": 4,
      "metadata": {
        "id": "qbRryNa92T9L"
      },
      "outputs": [],
      "source": [
        "#importing csv that contains the metafile of all the tracks\n",
        "df_all = pd.read_csv('C:/Users/mendu/Desktop/Deep-Learning-Projects/data/mtg_cleaned.csv', index_col = [0])"
      ]
    },
    {
      "cell_type": "code",
      "execution_count": 5,
      "metadata": {
        "colab": {
          "base_uri": "https://localhost:8080/",
          "height": 206
        },
        "id": "HiZFNNXALZFr",
        "outputId": "b06cf496-69fd-4515-bb4f-d153a83a3ec4"
      },
      "outputs": [
        {
          "data": {
            "text/html": [
              "<div>\n",
              "<style scoped>\n",
              "    .dataframe tbody tr th:only-of-type {\n",
              "        vertical-align: middle;\n",
              "    }\n",
              "\n",
              "    .dataframe tbody tr th {\n",
              "        vertical-align: top;\n",
              "    }\n",
              "\n",
              "    .dataframe thead th {\n",
              "        text-align: right;\n",
              "    }\n",
              "</style>\n",
              "<table border=\"1\" class=\"dataframe\">\n",
              "  <thead>\n",
              "    <tr style=\"text-align: right;\">\n",
              "      <th></th>\n",
              "      <th>track_id</th>\n",
              "      <th>artist_id</th>\n",
              "      <th>album_id</th>\n",
              "      <th>path</th>\n",
              "      <th>duration</th>\n",
              "      <th>genre</th>\n",
              "      <th>instrument</th>\n",
              "      <th>mood</th>\n",
              "    </tr>\n",
              "  </thead>\n",
              "  <tbody>\n",
              "    <tr>\n",
              "      <th>1</th>\n",
              "      <td>214</td>\n",
              "      <td>14</td>\n",
              "      <td>31</td>\n",
              "      <td>14/214.mp3</td>\n",
              "      <td>124.6</td>\n",
              "      <td>punkrock</td>\n",
              "      <td>NaN</td>\n",
              "      <td>NaN</td>\n",
              "    </tr>\n",
              "    <tr>\n",
              "      <th>2</th>\n",
              "      <td>215</td>\n",
              "      <td>14</td>\n",
              "      <td>31</td>\n",
              "      <td>15/215.mp3</td>\n",
              "      <td>151.4</td>\n",
              "      <td>metal</td>\n",
              "      <td>NaN</td>\n",
              "      <td>NaN</td>\n",
              "    </tr>\n",
              "    <tr>\n",
              "      <th>3</th>\n",
              "      <td>216</td>\n",
              "      <td>14</td>\n",
              "      <td>31</td>\n",
              "      <td>16/216.mp3</td>\n",
              "      <td>234.9</td>\n",
              "      <td>metal</td>\n",
              "      <td>NaN</td>\n",
              "      <td>NaN</td>\n",
              "    </tr>\n",
              "    <tr>\n",
              "      <th>4</th>\n",
              "      <td>217</td>\n",
              "      <td>14</td>\n",
              "      <td>31</td>\n",
              "      <td>17/217.mp3</td>\n",
              "      <td>127.9</td>\n",
              "      <td>punkrock</td>\n",
              "      <td>NaN</td>\n",
              "      <td>NaN</td>\n",
              "    </tr>\n",
              "    <tr>\n",
              "      <th>5</th>\n",
              "      <td>218</td>\n",
              "      <td>14</td>\n",
              "      <td>31</td>\n",
              "      <td>18/218.mp3</td>\n",
              "      <td>180.7</td>\n",
              "      <td>punkrock</td>\n",
              "      <td>NaN</td>\n",
              "      <td>NaN</td>\n",
              "    </tr>\n",
              "  </tbody>\n",
              "</table>\n",
              "</div>"
            ],
            "text/plain": [
              "   track_id  artist_id  album_id        path  duration     genre instrument  \\\n",
              "1       214         14        31  14/214.mp3     124.6  punkrock        NaN   \n",
              "2       215         14        31  15/215.mp3     151.4     metal        NaN   \n",
              "3       216         14        31  16/216.mp3     234.9     metal        NaN   \n",
              "4       217         14        31  17/217.mp3     127.9  punkrock        NaN   \n",
              "5       218         14        31  18/218.mp3     180.7  punkrock        NaN   \n",
              "\n",
              "  mood  \n",
              "1  NaN  \n",
              "2  NaN  \n",
              "3  NaN  \n",
              "4  NaN  \n",
              "5  NaN  "
            ]
          },
          "execution_count": 5,
          "metadata": {},
          "output_type": "execute_result"
        }
      ],
      "source": [
        "df_all.head()"
      ]
    },
    {
      "cell_type": "code",
      "execution_count": 6,
      "metadata": {
        "id": "Zn6shezZLitE"
      },
      "outputs": [],
      "source": [
        "#list of all the track_ids in the sample zip file\n",
        "track_ids = [int(file_name.replace('.npy', '')) for file_name in mel_list]\n",
        "\n",
        "#filtering only those tracks to the dataset\n",
        "df = df_all[df_all['track_id'].isin(track_ids)]\n",
        "\n",
        "#only taking the first genre from the genre column\n",
        "df['genre'] = df['genre'].str.split(',').str[0]\n",
        "\n",
        "#only keeping the tracks and genre column\n",
        "df = df[['track_id', 'genre']]"
      ]
    },
    {
      "cell_type": "code",
      "execution_count": 7,
      "metadata": {
        "colab": {
          "base_uri": "https://localhost:8080/",
          "height": 423
        },
        "id": "cRuX2XfHXWh9",
        "outputId": "00475a18-cd86-4175-c976-8b2908628d61"
      },
      "outputs": [
        {
          "data": {
            "text/html": [
              "<div>\n",
              "<style scoped>\n",
              "    .dataframe tbody tr th:only-of-type {\n",
              "        vertical-align: middle;\n",
              "    }\n",
              "\n",
              "    .dataframe tbody tr th {\n",
              "        vertical-align: top;\n",
              "    }\n",
              "\n",
              "    .dataframe thead th {\n",
              "        text-align: right;\n",
              "    }\n",
              "</style>\n",
              "<table border=\"1\" class=\"dataframe\">\n",
              "  <thead>\n",
              "    <tr style=\"text-align: right;\">\n",
              "      <th></th>\n",
              "      <th>track_id</th>\n",
              "      <th>genre</th>\n",
              "    </tr>\n",
              "  </thead>\n",
              "  <tbody>\n",
              "    <tr>\n",
              "      <th>0</th>\n",
              "      <td>6606</td>\n",
              "      <td>dance</td>\n",
              "    </tr>\n",
              "    <tr>\n",
              "      <th>1</th>\n",
              "      <td>6607</td>\n",
              "      <td>dance</td>\n",
              "    </tr>\n",
              "    <tr>\n",
              "      <th>2</th>\n",
              "      <td>6608</td>\n",
              "      <td>dance</td>\n",
              "    </tr>\n",
              "    <tr>\n",
              "      <th>3</th>\n",
              "      <td>6609</td>\n",
              "      <td>dance</td>\n",
              "    </tr>\n",
              "    <tr>\n",
              "      <th>4</th>\n",
              "      <td>6610</td>\n",
              "      <td>dance</td>\n",
              "    </tr>\n",
              "    <tr>\n",
              "      <th>...</th>\n",
              "      <td>...</td>\n",
              "      <td>...</td>\n",
              "    </tr>\n",
              "    <tr>\n",
              "      <th>3096</th>\n",
              "      <td>1420700</td>\n",
              "      <td>chillout</td>\n",
              "    </tr>\n",
              "    <tr>\n",
              "      <th>3097</th>\n",
              "      <td>1420704</td>\n",
              "      <td>dance</td>\n",
              "    </tr>\n",
              "    <tr>\n",
              "      <th>3098</th>\n",
              "      <td>1420705</td>\n",
              "      <td>dance</td>\n",
              "    </tr>\n",
              "    <tr>\n",
              "      <th>3099</th>\n",
              "      <td>1420706</td>\n",
              "      <td>dance</td>\n",
              "    </tr>\n",
              "    <tr>\n",
              "      <th>3100</th>\n",
              "      <td>1420707</td>\n",
              "      <td>chillout</td>\n",
              "    </tr>\n",
              "  </tbody>\n",
              "</table>\n",
              "<p>3101 rows × 2 columns</p>\n",
              "</div>"
            ],
            "text/plain": [
              "      track_id     genre\n",
              "0         6606     dance\n",
              "1         6607     dance\n",
              "2         6608     dance\n",
              "3         6609     dance\n",
              "4         6610     dance\n",
              "...        ...       ...\n",
              "3096   1420700  chillout\n",
              "3097   1420704     dance\n",
              "3098   1420705     dance\n",
              "3099   1420706     dance\n",
              "3100   1420707  chillout\n",
              "\n",
              "[3101 rows x 2 columns]"
            ]
          },
          "execution_count": 7,
          "metadata": {},
          "output_type": "execute_result"
        }
      ],
      "source": [
        "#calculating the most frequent genres in the sample and only keeping the top five in the df\n",
        "genre_count = pd.DataFrame(df.genre.value_counts().rename_axis('genre').reset_index(name='counts'))\n",
        "\n",
        "#list of top five genres\n",
        "top_genres = list(genre_count.genre[:10])\n",
        "\n",
        "#filtering df to only keep\n",
        "df = df[df['genre'].isin(top_genres)].sort_values(by = 'track_id', ascending = True).reset_index(drop = True)\n",
        "\n",
        "df"
      ]
    },
    {
      "cell_type": "code",
      "execution_count": 8,
      "metadata": {
        "id": "rgxV4ammN1MI"
      },
      "outputs": [],
      "source": [
        "#List of all the track_ids that are in the sample and have top5\n",
        "train_track_ids = list(df['track_id'].values)"
      ]
    },
    {
      "cell_type": "code",
      "execution_count": 9,
      "metadata": {
        "colab": {
          "base_uri": "https://localhost:8080/"
        },
        "id": "9M3C6kOS6KqY",
        "outputId": "74129da4-f159-4a5e-8373-39cab030c113"
      },
      "outputs": [
        {
          "data": {
            "text/plain": [
              "[6606, 6607, 6608, 6609, 6610]"
            ]
          },
          "execution_count": 9,
          "metadata": {},
          "output_type": "execute_result"
        }
      ],
      "source": [
        "train_track_ids[:5]"
      ]
    },
    {
      "cell_type": "markdown",
      "metadata": {
        "id": "cwekxYqDbq7h"
      },
      "source": [
        "### Cropping mel-spectrograms to the size (96, 1406)"
      ]
    },
    {
      "cell_type": "code",
      "execution_count": null,
      "metadata": {
        "id": "NfQaZWNJ8xl8"
      },
      "outputs": [],
      "source": [
        "!mkdir '/content/cropped_mel'"
      ]
    },
    {
      "cell_type": "code",
      "execution_count": null,
      "metadata": {
        "id": "1RHXFmk18q2p"
      },
      "outputs": [],
      "source": [
        "def crop_melspectrogram(mel_spectrogram, target_frames, hop_size):\n",
        "    # Crop or pad the mel spectrogram to the target number of frames\n",
        "    if mel_spectrogram.shape[1] >= target_frames:\n",
        "        cropped_mel_spectrogram = mel_spectrogram[:, :target_frames]\n",
        "    else:\n",
        "        # Pad with zeros if the original length is less than the target\n",
        "        padding = np.zeros((mel_spectrogram.shape[0], target_frames - mel_spectrogram.shape[1]))\n",
        "        cropped_mel_spectrogram = np.hstack((mel_spectrogram, padding))\n",
        "\n",
        "    return cropped_mel_spectrogram\n"
      ]
    },
    {
      "cell_type": "code",
      "execution_count": null,
      "metadata": {
        "id": "9e2_-zzh-Bvl"
      },
      "outputs": [],
      "source": [
        "folder_path = '/content/sample_mel'\n",
        "cropped_folder_path = '/content/cropped_mel'\n",
        "\n",
        "# Assuming the hop size used during mel spectrogram calculation\n",
        "hop_size = 256\n",
        "sample_rate = 12000\n",
        "\n",
        "# Calculate the target number of frames based on the desired duration (e.g., 30 seconds)\n",
        "desired_duration_seconds = 30\n",
        "target_frames = int(desired_duration_seconds * (1 / (hop_size / sample_rate)))\n",
        "\n",
        "# Iterate over files in the folder\n",
        "for filename in train_track_ids:\n",
        "    file_path = os.path.join(folder_path, str(filename) +'.npy')\n",
        "\n",
        "    mel_spectrogram = np.load(file_path)\n",
        "\n",
        "    cropped_mel_spectrogram = crop_melspectrogram(mel_spectrogram, target_frames, hop_size)\n",
        "\n",
        "    np.save(os.path.join(cropped_folder_path, str(filename)), cropped_mel_spectrogram)"
      ]
    },
    {
      "cell_type": "code",
      "execution_count": null,
      "metadata": {
        "colab": {
          "base_uri": "https://localhost:8080/"
        },
        "id": "vgtvu_Ck_vJt",
        "outputId": "41e2d20e-fed4-4f27-9e25-9c284bd26393"
      },
      "outputs": [
        {
          "name": "stdout",
          "output_type": "stream",
          "text": [
            "The number of cropped mel-spectrogram in the cropped_mel folder is: 1016\n"
          ]
        }
      ],
      "source": [
        "print('The number of cropped mel-spectrogram in the cropped_mel folder is:',len(os.listdir('/content/cropped_mel')))"
      ]
    },
    {
      "cell_type": "code",
      "execution_count": null,
      "metadata": {
        "id": "2cw7TCPuW2N3"
      },
      "outputs": [],
      "source": [
        "'''To display cropped and original mels'''\n",
        "\n",
        "# crop_mel_307 = np.load('/content/cropped_mel/1001307.npy')\n",
        "# mel_307 = np.load('/content/sample_mel/1001307.npy')\n",
        "\n",
        "# plt.imshow(crop_mel_307, aspect='auto')\n",
        "# plt.xlabel('Time')\n",
        "# plt.ylabel('Mel Frequency Bin')\n",
        "# plt.title('Mel-Spectrogram')\n",
        "# plt.colorbar()\n",
        "# plt.show()\n",
        "\n",
        "# plt.imshow(mel_307, aspect='auto')\n",
        "# plt.xlabel('Time')\n",
        "# plt.ylabel('Mel Frequency Bin')\n",
        "# plt.title('Mel-Spectrogram')\n",
        "# plt.colorbar()\n",
        "# plt.show()"
      ]
    },
    {
      "cell_type": "markdown",
      "metadata": {
        "id": "9EQkgGg9q3v_"
      },
      "source": [
        "# Training the model"
      ]
    },
    {
      "cell_type": "code",
      "execution_count": 11,
      "metadata": {
        "colab": {
          "base_uri": "https://localhost:8080/"
        },
        "id": "mWzklUIEAxTy",
        "outputId": "15b32d2f-8615-42ad-b1a7-34d71691d2fd"
      },
      "outputs": [
        {
          "name": "stdout",
          "output_type": "stream",
          "text": [
            "6606\n",
            "6607\n",
            "6608\n",
            "6609\n",
            "6610\n",
            "6611\n",
            "6719\n",
            "6720\n",
            "6721\n",
            "6722\n"
          ]
        }
      ],
      "source": [
        "#loading the cropped .npy files\n",
        "\n",
        "folder_path_mel = 'C:/Users/mendu/Desktop/Deep-Learning-Projects/data/cropped_mel'\n",
        "filenames = os.listdir(folder_path_mel)\n",
        "\n",
        "data = []\n",
        "i = 0\n",
        "\n",
        "for filename in train_track_ids:\n",
        "  filename_npy = str(filename) + '.npy'\n",
        "  file_path = os.path.join(folder_path_mel, filename_npy)\n",
        "  data.append(np.load(file_path))\n",
        "  if i < 10 :\n",
        "    print(filename)\n",
        "  i = i+1\n",
        "\n",
        "data = np.array(data)\n"
      ]
    },
    {
      "cell_type": "code",
      "execution_count": 11,
      "metadata": {
        "id": "TyQ564hXAxNh"
      },
      "outputs": [],
      "source": [
        "#normalize data\n",
        "data = data.astype('float32')/255.0"
      ]
    },
    {
      "cell_type": "code",
      "execution_count": 12,
      "metadata": {
        "colab": {
          "base_uri": "https://localhost:8080/"
        },
        "id": "2f102qFR2IU8",
        "outputId": "e7d5cd63-a77c-4037-e95e-2805f8e4a52d"
      },
      "outputs": [
        {
          "data": {
            "text/plain": [
              "(3101, 96, 1406)"
            ]
          },
          "execution_count": 12,
          "metadata": {},
          "output_type": "execute_result"
        }
      ],
      "source": [
        "data.shape"
      ]
    },
    {
      "cell_type": "code",
      "execution_count": 13,
      "metadata": {
        "id": "avcBh83EUv2h"
      },
      "outputs": [],
      "source": [
        "# Reshape data to include the channel dimension\n",
        "data = data.reshape((-1, 96, 1406, 1))\n",
        "\n",
        "# Split data into training and validation sets\n",
        "X_train, X_val, y_train, y_val = train_test_split(data, pd.get_dummies(df['genre']), test_size=0.2, random_state=42)"
      ]
    },
    {
      "cell_type": "code",
      "execution_count": 14,
      "metadata": {
        "id": "d7GwoDyDUvyv"
      },
      "outputs": [],
      "source": [
        "# Data augmentation\n",
        "datagen = ImageDataGenerator(\n",
        "    rotation_range=20,\n",
        "    width_shift_range=0.2,\n",
        "    height_shift_range=0.2,\n",
        "    horizontal_flip=True\n",
        ")\n",
        "\n",
        "datagen.fit(X_train)"
      ]
    },
    {
      "cell_type": "code",
      "execution_count": 15,
      "metadata": {
        "id": "rKrZwkL4xXc7"
      },
      "outputs": [],
      "source": [
        "# Define num_classes based on the number of unique genres\n",
        "num_classes = y_train.shape[1]"
      ]
    },
    {
      "cell_type": "code",
      "execution_count": 16,
      "metadata": {
        "colab": {
          "base_uri": "https://localhost:8080/"
        },
        "id": "5uVKCf3eAUkn",
        "outputId": "c30111ab-a054-495f-f21b-40d7901fdeb8"
      },
      "outputs": [
        {
          "data": {
            "text/plain": [
              "10"
            ]
          },
          "execution_count": 16,
          "metadata": {},
          "output_type": "execute_result"
        }
      ],
      "source": [
        "num_classes"
      ]
    },
    {
      "cell_type": "code",
      "execution_count": 17,
      "metadata": {
        "id": "GYYjn2sVIz8f"
      },
      "outputs": [
        {
          "name": "stdout",
          "output_type": "stream",
          "text": [
            "WARNING:tensorflow:From c:\\Users\\mendu\\anaconda3\\Lib\\site-packages\\keras\\src\\backend.py:1398: The name tf.executing_eagerly_outside_functions is deprecated. Please use tf.compat.v1.executing_eagerly_outside_functions instead.\n",
            "\n",
            "WARNING:tensorflow:From c:\\Users\\mendu\\anaconda3\\Lib\\site-packages\\keras\\src\\layers\\normalization\\batch_normalization.py:979: The name tf.nn.fused_batch_norm is deprecated. Please use tf.compat.v1.nn.fused_batch_norm instead.\n",
            "\n",
            "Downloading data from https://storage.googleapis.com/keras-applications/efficientnetb0_notop.h5\n",
            "16705208/16705208 [==============================] - 5s 0us/step\n"
          ]
        }
      ],
      "source": [
        "# Convert images to RGB using TensorFlow operations\n",
        "def grayscale_to_rgb(images):\n",
        "    return tf.image.grayscale_to_rgb(tf.convert_to_tensor(images))\n",
        "\n",
        "# Assuming you've already converted your grayscale images to 3 channels with grayscale_to_rgb\n",
        "X_train_rgb = grayscale_to_rgb(X_train)  # This should output images with shape [height, width, 3]\n",
        "X_val_rgb = grayscale_to_rgb(X_val)      # Same as above\n",
        "\n",
        "# Initialize the EfficientNetB0 model (pre-trained on ImageNet)\n",
        "base_model = EfficientNetB0(weights='imagenet', include_top=False, input_shape=(96, 1406, 3))\n",
        "\n",
        "# Freeze the pre-trained layers\n",
        "for layer in base_model.layers:\n",
        "    layer.trainable = False\n",
        "\n",
        "# Build the new model\n",
        "model = Sequential()\n",
        "model.add(base_model)\n",
        "model.add(Flatten())\n",
        "model.add(Dense(128, activation='relu'))\n",
        "model.add(Dense(10, activation='softmax'))\n",
        "\n",
        "# Compile the model\n",
        "model.compile(optimizer=Adam(), loss='categorical_crossentropy', metrics=['accuracy'])\n"
      ]
    },
    {
      "cell_type": "code",
      "execution_count": 18,
      "metadata": {
        "colab": {
          "base_uri": "https://localhost:8080/"
        },
        "id": "thR_D7ujUvtV",
        "outputId": "7895e54d-2b30-4208-fa53-c59cd61db071"
      },
      "outputs": [
        {
          "name": "stdout",
          "output_type": "stream",
          "text": [
            "Epoch 1/10\n",
            "WARNING:tensorflow:From c:\\Users\\mendu\\anaconda3\\Lib\\site-packages\\keras\\src\\utils\\tf_utils.py:492: The name tf.ragged.RaggedTensorValue is deprecated. Please use tf.compat.v1.ragged.RaggedTensorValue instead.\n",
            "\n",
            "WARNING:tensorflow:From c:\\Users\\mendu\\anaconda3\\Lib\\site-packages\\keras\\src\\engine\\base_layer_utils.py:384: The name tf.executing_eagerly_outside_functions is deprecated. Please use tf.compat.v1.executing_eagerly_outside_functions instead.\n",
            "\n",
            "78/78 [==============================] - 199s 2s/step - loss: 11.2609 - accuracy: 0.2359 - val_loss: 2.8998 - val_accuracy: 0.2882\n",
            "Epoch 2/10\n",
            "78/78 [==============================] - 172s 2s/step - loss: 2.7578 - accuracy: 0.2839 - val_loss: 2.2584 - val_accuracy: 0.2158\n",
            "Epoch 3/10\n",
            "78/78 [==============================] - 159s 2s/step - loss: 2.0557 - accuracy: 0.2891 - val_loss: 2.0317 - val_accuracy: 0.2947\n",
            "Epoch 4/10\n",
            "78/78 [==============================] - 163s 2s/step - loss: 1.8923 - accuracy: 0.3508 - val_loss: 1.9717 - val_accuracy: 0.3382\n",
            "Epoch 5/10\n",
            "78/78 [==============================] - 162s 2s/step - loss: 1.8393 - accuracy: 0.3710 - val_loss: 1.9572 - val_accuracy: 0.3205\n",
            "Epoch 6/10\n",
            "78/78 [==============================] - 179s 2s/step - loss: 1.8160 - accuracy: 0.3931 - val_loss: 1.9093 - val_accuracy: 0.3736\n",
            "Epoch 7/10\n",
            "78/78 [==============================] - 162s 2s/step - loss: 1.8843 - accuracy: 0.3677 - val_loss: 1.8907 - val_accuracy: 0.3543\n",
            "Epoch 8/10\n",
            "78/78 [==============================] - 161s 2s/step - loss: 1.7947 - accuracy: 0.4004 - val_loss: 1.9800 - val_accuracy: 0.3333\n",
            "Epoch 9/10\n",
            "78/78 [==============================] - 167s 2s/step - loss: 1.7729 - accuracy: 0.4069 - val_loss: 2.0998 - val_accuracy: 0.3140\n",
            "Epoch 10/10\n",
            "78/78 [==============================] - 159s 2s/step - loss: 1.7840 - accuracy: 0.3980 - val_loss: 1.9286 - val_accuracy: 0.3462\n"
          ]
        }
      ],
      "source": [
        "# Train model\n",
        "history = model.fit(X_train, y_train, batch_size=32, epochs=10, validation_data=(X_val, y_val), verbose= 1)"
      ]
    },
    {
      "cell_type": "code",
      "execution_count": 19,
      "metadata": {
        "colab": {
          "base_uri": "https://localhost:8080/"
        },
        "id": "n0eSqbAwhDTS",
        "outputId": "8d6e3459-86be-4239-d6c1-06adf285888d"
      },
      "outputs": [
        {
          "name": "stdout",
          "output_type": "stream",
          "text": [
            "Epoch 11/20\n",
            "78/78 [==============================] - 188s 2s/step - loss: 1.7928 - accuracy: 0.3786 - val_loss: 1.9900 - val_accuracy: 0.3301\n",
            "Epoch 12/20\n",
            "78/78 [==============================] - 151s 2s/step - loss: 1.7358 - accuracy: 0.4109 - val_loss: 1.9343 - val_accuracy: 0.3414\n",
            "Epoch 13/20\n",
            "78/78 [==============================] - 157s 2s/step - loss: 1.6708 - accuracy: 0.4250 - val_loss: 1.8883 - val_accuracy: 0.3285\n",
            "Epoch 14/20\n",
            "78/78 [==============================] - 160s 2s/step - loss: 1.6830 - accuracy: 0.4185 - val_loss: 1.9456 - val_accuracy: 0.3591\n",
            "Epoch 15/20\n",
            "78/78 [==============================] - 161s 2s/step - loss: 1.7205 - accuracy: 0.4004 - val_loss: 1.8793 - val_accuracy: 0.3494\n",
            "Epoch 16/20\n",
            "78/78 [==============================] - 157s 2s/step - loss: 1.6049 - accuracy: 0.4270 - val_loss: 1.8558 - val_accuracy: 0.3317\n",
            "Epoch 17/20\n",
            "78/78 [==============================] - 159s 2s/step - loss: 1.6237 - accuracy: 0.4375 - val_loss: 1.9196 - val_accuracy: 0.3607\n",
            "Epoch 18/20\n",
            "78/78 [==============================] - 149s 2s/step - loss: 1.5994 - accuracy: 0.4407 - val_loss: 1.8917 - val_accuracy: 0.3623\n",
            "Epoch 19/20\n",
            "78/78 [==============================] - 145s 2s/step - loss: 1.5944 - accuracy: 0.4536 - val_loss: 1.8334 - val_accuracy: 0.3752\n",
            "Epoch 20/20\n",
            "78/78 [==============================] - 145s 2s/step - loss: 1.5277 - accuracy: 0.4710 - val_loss: 1.9191 - val_accuracy: 0.3366\n"
          ]
        }
      ],
      "source": [
        "# Train for 10 more epochs\n",
        "history_20 = model.fit(X_train, y_train, batch_size=32, epochs=20, validation_data=(X_val, y_val), initial_epoch=10, verbose= 1)"
      ]
    },
    {
      "cell_type": "code",
      "execution_count": 20,
      "metadata": {
        "colab": {
          "base_uri": "https://localhost:8080/"
        },
        "id": "Y9CtIapt2qL1",
        "outputId": "6f2d6964-d8f0-4aef-d520-bc8c77bf858d"
      },
      "outputs": [
        {
          "name": "stdout",
          "output_type": "stream",
          "text": [
            "Epoch 21/30\n",
            "78/78 [==============================] - 155s 2s/step - loss: 1.5453 - accuracy: 0.4560 - val_loss: 1.8739 - val_accuracy: 0.3671\n",
            "Epoch 22/30\n",
            "78/78 [==============================] - 164s 2s/step - loss: 1.6203 - accuracy: 0.4355 - val_loss: 1.9015 - val_accuracy: 0.3414\n",
            "Epoch 23/30\n",
            "78/78 [==============================] - 154s 2s/step - loss: 1.6120 - accuracy: 0.4427 - val_loss: 2.0264 - val_accuracy: 0.3253\n",
            "Epoch 24/30\n",
            "78/78 [==============================] - 154s 2s/step - loss: 1.5970 - accuracy: 0.4415 - val_loss: 1.8902 - val_accuracy: 0.3269\n",
            "Epoch 25/30\n",
            "78/78 [==============================] - 155s 2s/step - loss: 1.5515 - accuracy: 0.4536 - val_loss: 1.9149 - val_accuracy: 0.3269\n",
            "Epoch 26/30\n",
            "78/78 [==============================] - 160s 2s/step - loss: 1.5852 - accuracy: 0.4435 - val_loss: 1.9055 - val_accuracy: 0.3510\n",
            "Epoch 27/30\n",
            "78/78 [==============================] - 153s 2s/step - loss: 1.5448 - accuracy: 0.4613 - val_loss: 2.0061 - val_accuracy: 0.3092\n",
            "Epoch 28/30\n",
            "78/78 [==============================] - 148s 2s/step - loss: 1.6480 - accuracy: 0.4198 - val_loss: 1.9092 - val_accuracy: 0.3527\n",
            "Epoch 29/30\n",
            "78/78 [==============================] - 145s 2s/step - loss: 1.5541 - accuracy: 0.4496 - val_loss: 1.8955 - val_accuracy: 0.3510\n",
            "Epoch 30/30\n",
            "78/78 [==============================] - 150s 2s/step - loss: 1.5041 - accuracy: 0.4690 - val_loss: 2.2586 - val_accuracy: 0.3253\n"
          ]
        }
      ],
      "source": [
        "# Train for 10 more epochs\n",
        "history_30 = model.fit(X_train, y_train, batch_size=32, epochs=30, validation_data=(X_val, y_val), initial_epoch=20, verbose= 1)"
      ]
    },
    {
      "cell_type": "code",
      "execution_count": 22,
      "metadata": {
        "id": "-j4Mkqae20mE"
      },
      "outputs": [],
      "source": [
        "# Save the model\n",
        "model.save('C:/Users/mendu/Desktop/Deep-Learning-Projects/data/efficientnet_3k_30ep.keras')"
      ]
    },
    {
      "cell_type": "code",
      "execution_count": 23,
      "metadata": {
        "id": "fKRlgmfHI3Js"
      },
      "outputs": [],
      "source": [
        "# Load the model\n",
        "loaded_model = load_model('C:/Users/mendu/Desktop/Deep-Learning-Projects/data/efficientnet_3k_30ep.keras')"
      ]
    },
    {
      "cell_type": "code",
      "execution_count": 24,
      "metadata": {
        "colab": {
          "base_uri": "https://localhost:8080/"
        },
        "id": "KHL436svUvrc",
        "outputId": "f1ab42e9-779e-4eee-a620-b984172907f8"
      },
      "outputs": [
        {
          "name": "stdout",
          "output_type": "stream",
          "text": [
            "20/20 [==============================] - 35s 2s/step - loss: 2.2586 - accuracy: 0.3253\n",
            "Validation Loss: 2.25856614112854, Validation Accuracy: 0.3252817988395691\n"
          ]
        }
      ],
      "source": [
        "# last val loss and val acc\n",
        "loss, accuracy = model.evaluate(X_val, y_val)\n",
        "print(f'Validation Loss: {loss}, Validation Accuracy: {accuracy}')"
      ]
    },
    {
      "cell_type": "code",
      "execution_count": 25,
      "metadata": {
        "id": "vTTxD_MshbJw"
      },
      "outputs": [],
      "source": [
        "# Concatenate the old and new history\n",
        "full_history = {}\n",
        "for key in history.history.keys():\n",
        "    full_history[key] = history.history[key] + history_20.history[key] + history_30.history[key]"
      ]
    },
    {
      "cell_type": "code",
      "execution_count": 26,
      "metadata": {
        "colab": {
          "base_uri": "https://localhost:8080/",
          "height": 927
        },
        "id": "nGcI_J4kCThE",
        "outputId": "8c081ab1-34e2-4239-ff2d-038f099d51f0"
      },
      "outputs": [
        {
          "data": {
            "image/png": "[encoded data removed]",
            "text/plain": [
              "<Figure size 640x480 with 1 Axes>"
            ]
          },
          "metadata": {},
          "output_type": "display_data"
        },
        {
          "data": {
            "image/png": "[encoded data removed]",
            "text/plain": [
              "<Figure size 640x480 with 1 Axes>"
            ]
          },
          "metadata": {},
          "output_type": "display_data"
        }
      ],
      "source": [
        "# Plot training loss\n",
        "plt.plot(full_history['loss'], label='Training Loss')\n",
        "plt.plot(full_history['val_loss'], label='Validation Loss')\n",
        "plt.title('Training and Validation Loss')\n",
        "plt.xlabel('Epoch')\n",
        "plt.ylabel('Loss')\n",
        "plt.legend()\n",
        "plt.show()\n",
        "\n",
        "# Plot training accuracy\n",
        "plt.plot(full_history['accuracy'], label='Training Accuracy')\n",
        "plt.plot(full_history['val_accuracy'], label='Validation Accuracy')\n",
        "plt.title('Training and Validation Accuracy')\n",
        "plt.xlabel('Epoch')\n",
        "plt.ylabel('Accuracy')\n",
        "plt.legend()\n",
        "plt.show()\n"
      ]
    },
    {
      "cell_type": "code",
      "execution_count": null,
      "metadata": {
        "id": "Ipy4fPekSoml"
      },
      "outputs": [],
      "source": []
    },
    {
      "cell_type": "code",
      "execution_count": null,
      "metadata": {
        "id": "FrCroE-OSojF"
      },
      "outputs": [],
      "source": []
    },
    {
      "cell_type": "code",
      "execution_count": null,
      "metadata": {
        "id": "YzhIIWDvESSG"
      },
      "outputs": [],
      "source": []
    },
    {
      "cell_type": "code",
      "execution_count": null,
      "metadata": {
        "id": "RwM0_-ZySZG7"
      },
      "outputs": [],
      "source": []
    },
    {
      "cell_type": "code",
      "execution_count": null,
      "metadata": {
        "id": "bbTduTJlSZDZ"
      },
      "outputs": [],
      "source": []
    },
    {
      "cell_type": "code",
      "execution_count": null,
      "metadata": {
        "id": "SVpRcKz3SZAb"
      },
      "outputs": [],
      "source": []
    },
    {
      "cell_type": "code",
      "execution_count": null,
      "metadata": {
        "colab": {
          "base_uri": "https://localhost:8080/",
          "height": 442
        },
        "id": "_MXKl7KEJiBd",
        "outputId": "9bc0418a-9082-4431-dfb5-666b006c229f"
      },
      "outputs": [],
      "source": [
        "'''import matplotlib.pyplot as plt\n",
        "\n",
        "# Define the data\n",
        "epochs = list(range(1, 31))  # Assuming 30 epochs\n",
        "train_loss = [3.1024, 2.3673, 2.2814, 2.2056, 2.1723, 2.1417, 2.1223, 2.1314, 2.1052, 2.1025, 2.0961, 2.0911, 2.0806, 2.1007, 2.0791, 2.0792, 2.0732, 2.0681, 2.0666, 2.0602, 2.0665, 2.0690, 2.0689, 2.0640, 2.0514, 2.0593, 2.0629, 2.0557, 2.0695, 2.0646]\n",
        "val_loss = [2.3848, 2.2317, 2.1796, 2.1162, 2.0936, 2.0726, 2.0700, 2.0816, 2.1067, 2.0504, 2.0372, 2.0261, 2.0269, 2.0264, 2.0271, 2.0361, 2.0115, 2.0132, 1.9988, 2.0171, 2.0062, 2.0093, 2.0190, 2.0003, 1.9912, 2.0077, 2.0126, 1.9861, 2.0034, 2.0032]\n",
        "train_accuracy = [0.2343, 0.2407, 0.2444, 0.2415, 0.2464, 0.2577, 0.2556, 0.2569, 0.2593, 0.2782, 0.2621, 0.2754, 0.2625, 0.2681, 0.2839, 0.2762, 0.2730, 0.2815, 0.2806, 0.2786, 0.2774, 0.2750, 0.2810, 0.2742, 0.2843, 0.2738, 0.2742, 0.2766, 0.2815, 0.2802]\n",
        "val_accuracy = [0.2560, 0.2609, 0.2754, 0.2593, 0.2625, 0.2609, 0.2705, 0.2802, 0.2609, 0.2271, 0.2866, 0.2754, 0.2882, 0.2818, 0.2915, 0.2866, 0.2915, 0.2995, 0.3043, 0.3060, 0.2947, 0.2995, 0.2866, 0.3027, 0.3124, 0.3043, 0.3060, 0.3140, 0.2963, 0.2995]\n",
        "\n",
        "# Plot training & validation accuracy values\n",
        "plt.figure(figsize=(12, 6))\n",
        "plt.subplot(1, 2, 1)\n",
        "plt.plot(epochs, train_accuracy, label='Training Accuracy')\n",
        "plt.plot(epochs, val_accuracy, label='Validation Accuracy')\n",
        "plt.title('Model Accuracy')\n",
        "plt.xlabel('Epoch')\n",
        "plt.ylabel('Accuracy')\n",
        "plt.legend()\n",
        "\n",
        "# Plot training & validation loss values\n",
        "plt.subplot(1, 2, 2)\n",
        "plt.plot(epochs, train_loss, label='Training Loss')\n",
        "plt.plot(epochs, val_loss, label='Validation Loss')\n",
        "plt.title('Model Loss')\n",
        "plt.xlabel('Epoch')\n",
        "plt.ylabel('Loss')\n",
        "plt.legend()\n",
        "\n",
        "plt.tight_layout()\n",
        "plt.show()\n",
        "'''"
      ]
    },
    {
      "cell_type": "code",
      "execution_count": null,
      "metadata": {
        "id": "ggjow7E8q8uh"
      },
      "outputs": [],
      "source": [
        "#This was without l2 reg\n",
        "\n",
        "'''\n",
        "model = Sequential()\n",
        "\n",
        "# Convolutional layers\n",
        "model.add(Conv2D(32, (3, 3), activation='relu', input_shape=(96, 1406, 1)))\n",
        "model.add(MaxPooling2D((2, 2)))\n",
        "model.add(Conv2D(64, (3, 3), activation='relu'))\n",
        "model.add(MaxPooling2D((2, 2)))\n",
        "model.add(Conv2D(128, (3, 3), activation='relu'))\n",
        "model.add(MaxPooling2D((2, 2)))\n",
        "\n",
        "# Flatten layer to transition from convolutional layers to fully connected layers\n",
        "model.add(Flatten())\n",
        "\n",
        "# Fully connected layers\n",
        "model.add(Dense(256, activation='relu'))\n",
        "model.add(Dropout(0.5))  # Introducing dropout for regularization\n",
        "model.add(Dense(128, activation='relu'))\n",
        "model.add(Dropout(0.5))  # Introducing dropout for regularization\n",
        "\n",
        "# Output layer\n",
        "model.add(Dense(num_classes, activation='softmax'))\n",
        "\n",
        "# Compile the model\n",
        "model.compile(optimizer='adam', loss='categorical_crossentropy', metrics=['accuracy'])\n",
        "\n",
        "# Print model summary for an overview of the architecture\n",
        "model.summary()'''"
      ]
    },
    {
      "cell_type": "code",
      "execution_count": null,
      "metadata": {
        "id": "z1oebNXYDBHi"
      },
      "outputs": [],
      "source": [
        "'''\n",
        "import keras\n",
        "# Save the entire model to a file\n",
        "model.save('/content/drive/MyDrive/colab_data/simple_cnn_3kmel.keras')\n",
        "\n",
        "# Load the model back\n",
        "loaded_model = keras.models.load_model('/content/drive/MyDrive/colab_data/simple_cnn_3kmel.keras')'''"
      ]
    },
    {
      "cell_type": "code",
      "execution_count": null,
      "metadata": {
        "id": "8FTyK2MCEMAi"
      },
      "outputs": [],
      "source": [
        "'''\n",
        "# Plot training loss\n",
        "plt.plot(history.history['loss'], label='Training Loss')\n",
        "plt.plot(history.history['val_loss'], label='Validation Loss')\n",
        "plt.title('Training and Validation Loss')\n",
        "plt.xlabel('Epoch')\n",
        "plt.ylabel('Loss')\n",
        "plt.legend()\n",
        "plt.show()\n",
        "\n",
        "# Plot training accuracy\n",
        "plt.plot(history.history['accuracy'], label='Training Accuracy')\n",
        "plt.plot(history.history['val_accuracy'], label='Validation Accuracy')\n",
        "plt.title('Training and Validation Accuracy')\n",
        "plt.xlabel('Epoch')\n",
        "plt.ylabel('Accuracy')\n",
        "plt.legend()\n",
        "plt.show()\n",
        "'''"
      ]
    }
  ],
  "metadata": {
    "colab": {
      "provenance": []
    },
    "kernelspec": {
      "display_name": "Python 3",
      "name": "python3"
    },
    "language_info": {
      "codemirror_mode": {
        "name": "ipython",
        "version": 3
      },
      "file_extension": ".py",
      "mimetype": "text/x-python",
      "name": "python",
      "nbconvert_exporter": "python",
      "pygments_lexer": "ipython3",
      "version": "3.11.5"
    }
  },
  "nbformat": 4,
  "nbformat_minor": 0
}

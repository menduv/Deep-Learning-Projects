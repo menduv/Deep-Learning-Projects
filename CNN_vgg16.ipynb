{
  "nbformat": 4,
  "nbformat_minor": 0,
  "metadata": {
    "colab": {
      "provenance": [],
      "authorship_tag": "ABX9TyPOIkCv20MHWcolVoz6AnEc",
      "include_colab_link": true
    },
    "kernelspec": {
      "name": "python3",
      "display_name": "Python 3"
    },
    "language_info": {
      "name": "python"
    }
  },
  "cells": [
    {
      "cell_type": "markdown",
      "metadata": {
        "id": "view-in-github",
        "colab_type": "text"
      },
      "source": [
        "<a href=\"https://colab.research.google.com/github/menduv/Deep-Learning-Projects/blob/main/CNN_vgg16.ipynb\" target=\"_parent\"><img src=\"https://colab.research.google.com/assets/colab-badge.svg\" alt=\"Open In Colab\"/></a>"
      ]
    },
    {
      "cell_type": "markdown",
      "source": [
        "###Loading required libraries"
      ],
      "metadata": {
        "id": "PbInqGNlL9eO"
      }
    },
    {
      "cell_type": "code",
      "execution_count": 9,
      "metadata": {
        "colab": {
          "base_uri": "https://localhost:8080/"
        },
        "id": "IVhi4bPWHxDb",
        "outputId": "696b4471-9f14-477c-bbf4-f5db012d9c95"
      },
      "outputs": [
        {
          "output_type": "stream",
          "name": "stdout",
          "text": [
            "['train.zip', 'train.csv', 'sample_submission.csv', 'test.zip', '.ipynb_checkpoints']\n"
          ]
        }
      ],
      "source": [
        "import pandas as pd # data processing, CSV file I/O (e.g. pd.read_csv)\n",
        "import os,cv2\n",
        "from IPython.display import Image\n",
        "from keras.preprocessing import image\n",
        "from keras import optimizers\n",
        "from keras import layers,models\n",
        "from keras.applications.imagenet_utils import preprocess_input\n",
        "import matplotlib.pyplot as plt\n",
        "import seaborn as sns\n",
        "from keras import regularizers\n",
        "from keras.preprocessing.image import ImageDataGenerator\n",
        "from keras.applications.vgg16 import VGG16\n",
        "print(os.listdir(\"/content/cactus\"))\n",
        "\n",
        "import numpy as np"
      ]
    },
    {
      "cell_type": "code",
      "source": [
        "!unzip cactus/test.zip"
      ],
      "metadata": {
        "id": "2pXzFcdWOBmW"
      },
      "execution_count": null,
      "outputs": []
    },
    {
      "cell_type": "code",
      "source": [
        "!unzip cactus/train.zip"
      ],
      "metadata": {
        "id": "X-Z5PpBUOPGV"
      },
      "execution_count": null,
      "outputs": []
    },
    {
      "cell_type": "markdown",
      "source": [
        "### Setting our directories"
      ],
      "metadata": {
        "id": "ofnlo8_0MEx1"
      }
    },
    {
      "cell_type": "code",
      "source": [
        "train_dir=\"/content/train\"\n",
        "test_dir=\"/content/test\"\n",
        "train=pd.read_csv('/content/cactus/train.csv')\n",
        "\n",
        "df_test=pd.read_csv('/content/cactus/sample_submission.csv')"
      ],
      "metadata": {
        "id": "h5Wp2JwpLdsF"
      },
      "execution_count": 13,
      "outputs": []
    },
    {
      "cell_type": "markdown",
      "source": [
        "### Getting a basic idea"
      ],
      "metadata": {
        "id": "_UJX61T5MI9p"
      }
    },
    {
      "cell_type": "code",
      "source": [
        "train.head(5)\n",
        "train.has_cactus=train.has_cactus.astype(str) #why change the var type to str?"
      ],
      "metadata": {
        "id": "Ora1ROSPLo6l"
      },
      "execution_count": 14,
      "outputs": []
    },
    {
      "cell_type": "code",
      "source": [
        "print('out dataset has {} rows and {} columns'.format(train.shape[0],train.shape[1]))"
      ],
      "metadata": {
        "colab": {
          "base_uri": "https://localhost:8080/"
        },
        "id": "Mnax86_gLsV3",
        "outputId": "4f1647e5-9fd5-425f-f1a8-731e91136e79"
      },
      "execution_count": 15,
      "outputs": [
        {
          "output_type": "stream",
          "name": "stdout",
          "text": [
            "out dataset has 17500 rows and 2 columns\n"
          ]
        }
      ]
    },
    {
      "cell_type": "code",
      "source": [
        "train['has_cactus'].value_counts()"
      ],
      "metadata": {
        "colab": {
          "base_uri": "https://localhost:8080/"
        },
        "id": "V4ycsithLtQY",
        "outputId": "9298d14c-6c37-4382-9e7a-a52a3ff11538"
      },
      "execution_count": 16,
      "outputs": [
        {
          "output_type": "execute_result",
          "data": {
            "text/plain": [
              "1    13136\n",
              "0     4364\n",
              "Name: has_cactus, dtype: int64"
            ]
          },
          "metadata": {},
          "execution_count": 16
        }
      ]
    },
    {
      "cell_type": "code",
      "source": [
        "print(\"The number of rows in test set is %d\"%(len(os.listdir('/content/test'))))"
      ],
      "metadata": {
        "colab": {
          "base_uri": "https://localhost:8080/"
        },
        "id": "ebj7pyYlLvZX",
        "outputId": "ed2807a6-09cc-4db2-aa70-d6acdc8ccfbd"
      },
      "execution_count": 18,
      "outputs": [
        {
          "output_type": "stream",
          "name": "stdout",
          "text": [
            "The number of rows in test set is 4000\n"
          ]
        }
      ]
    },
    {
      "cell_type": "markdown",
      "source": [
        "### Displaying an image"
      ],
      "metadata": {
        "id": "uB0L7Dd1MNOD"
      }
    },
    {
      "cell_type": "code",
      "source": [
        "Image(os.path.join(\"/content/train\",train.iloc[0,0]),width=250,height=250)"
      ],
      "metadata": {
        "colab": {
          "base_uri": "https://localhost:8080/",
          "height": 267
        },
        "id": "RBM2ztsGL2n4",
        "outputId": "81b452b0-aff4-4dad-d47e-56bc743d27e3"
      },
      "execution_count": 20,
      "outputs": [
        {
          "output_type": "execute_result",
          "data": {
            "image/jpeg": "[encoded data removed]",
            "text/plain": [
              "<IPython.core.display.Image object>"
            ]
          },
          "metadata": {
            "image/jpeg": {
              "width": 250,
              "height": 250
            }
          },
          "execution_count": 20
        }
      ]
    },
    {
      "cell_type": "markdown",
      "source": [
        "### Data preparation"
      ],
      "metadata": {
        "id": "T7bWdfzsMRP3"
      }
    },
    {
      "cell_type": "code",
      "source": [
        "#creating a ImageDataGenerator object\n",
        "#for data augmentation; create new imgaes from the training set while training of the model\n",
        "datagen=ImageDataGenerator(rescale=1./255)\n",
        "batch_size=150"
      ],
      "metadata": {
        "id": "8x5G1xF_MSSX"
      },
      "execution_count": 21,
      "outputs": []
    },
    {
      "cell_type": "markdown",
      "source": [
        "In the next cell a data generator is defined. A data generator is an iterator that will create batches of augmented images with a label during the training of a neural network model. It reads image files from the specified directory, reads the labels from the specified dataframe to match the image and their label. This is a common set up for training DL model with Keras."
      ],
      "metadata": {
        "id": "vvJpfvVsdpf8"
      }
    },
    {
      "cell_type": "code",
      "source": [
        "train_generator=datagen.flow_from_dataframe(dataframe=train[:15000],directory=train_dir,x_col='id',\n",
        "                                            y_col='has_cactus',class_mode='binary',batch_size=batch_size,\n",
        "                                            target_size=(150,150))\n",
        "\n",
        "\n",
        "validation_generator=datagen.flow_from_dataframe(dataframe=train[15000:],directory=train_dir,x_col='id',\n",
        "                                                y_col='has_cactus',class_mode='binary',batch_size=50,\n",
        "                                                target_size=(150,150))"
      ],
      "metadata": {
        "colab": {
          "base_uri": "https://localhost:8080/"
        },
        "id": "wm8AN9YaMVdq",
        "outputId": "502cff0a-b36a-4cc0-9d9e-6f1a65bc72e4"
      },
      "execution_count": 22,
      "outputs": [
        {
          "output_type": "stream",
          "name": "stdout",
          "text": [
            "Found 15001 validated image filenames belonging to 2 classes.\n",
            "Found 2500 validated image filenames belonging to 2 classes.\n"
          ]
        }
      ]
    },
    {
      "cell_type": "markdown",
      "source": [
        "### Building our model"
      ],
      "metadata": {
        "id": "UYqCxSbWMgkl"
      }
    },
    {
      "cell_type": "code",
      "source": [
        "model=models.Sequential()\n",
        "model.add(layers.Conv2D(32,(3,3),activation='relu',input_shape=(150,150,3)))\n",
        "model.add(layers.MaxPool2D((2,2)))\n",
        "model.add(layers.Conv2D(64,(3,3),activation='relu',input_shape=(150,150,3)))\n",
        "model.add(layers.MaxPool2D((2,2)))\n",
        "model.add(layers.Conv2D(128,(3,3),activation='relu',input_shape=(150,150,3)))\n",
        "model.add(layers.MaxPool2D((2,2)))\n",
        "model.add(layers.Conv2D(128,(3,3),activation='relu',input_shape=(150,150,3)))\n",
        "model.add(layers.MaxPool2D((2,2)))\n",
        "model.add(layers.Flatten())\n",
        "model.add(layers.Dense(512,activation='relu'))\n",
        "model.add(layers.Dense(1,activation='sigmoid'))"
      ],
      "metadata": {
        "id": "5TaMNQqCMdGd"
      },
      "execution_count": 23,
      "outputs": []
    },
    {
      "cell_type": "markdown",
      "source": [
        "### Displaying summary of our network"
      ],
      "metadata": {
        "id": "Q7aA3m2hPfrQ"
      }
    },
    {
      "cell_type": "code",
      "source": [
        "model.summary()"
      ],
      "metadata": {
        "colab": {
          "base_uri": "https://localhost:8080/"
        },
        "id": "g3zvn_TnMkKG",
        "outputId": "f59eda5a-f4d0-491b-dc2e-9ab41b39d751"
      },
      "execution_count": 24,
      "outputs": [
        {
          "output_type": "stream",
          "name": "stdout",
          "text": [
            "Model: \"sequential_1\"\n",
            "_________________________________________________________________\n",
            " Layer (type)                Output Shape              Param #   \n",
            "=================================================================\n",
            " conv2d_4 (Conv2D)           (None, 148, 148, 32)      896       \n",
            "                                                                 \n",
            " max_pooling2d_4 (MaxPoolin  (None, 74, 74, 32)        0         \n",
            " g2D)                                                            \n",
            "                                                                 \n",
            " conv2d_5 (Conv2D)           (None, 72, 72, 64)        18496     \n",
            "                                                                 \n",
            " max_pooling2d_5 (MaxPoolin  (None, 36, 36, 64)        0         \n",
            " g2D)                                                            \n",
            "                                                                 \n",
            " conv2d_6 (Conv2D)           (None, 34, 34, 128)       73856     \n",
            "                                                                 \n",
            " max_pooling2d_6 (MaxPoolin  (None, 17, 17, 128)       0         \n",
            " g2D)                                                            \n",
            "                                                                 \n",
            " conv2d_7 (Conv2D)           (None, 15, 15, 128)       147584    \n",
            "                                                                 \n",
            " max_pooling2d_7 (MaxPoolin  (None, 7, 7, 128)         0         \n",
            " g2D)                                                            \n",
            "                                                                 \n",
            " flatten_1 (Flatten)         (None, 6272)              0         \n",
            "                                                                 \n",
            " dense_2 (Dense)             (None, 512)               3211776   \n",
            "                                                                 \n",
            " dense_3 (Dense)             (None, 1)                 513       \n",
            "                                                                 \n",
            "=================================================================\n",
            "Total params: 3453121 (13.17 MB)\n",
            "Trainable params: 3453121 (13.17 MB)\n",
            "Non-trainable params: 0 (0.00 Byte)\n",
            "_________________________________________________________________\n"
          ]
        }
      ]
    },
    {
      "cell_type": "markdown",
      "source": [
        "### Compiling our model"
      ],
      "metadata": {
        "id": "6PY0YvVcPq7c"
      }
    },
    {
      "cell_type": "code",
      "source": [
        "model.compile(loss='binary_crossentropy',optimizer='rmsprop', metrics=['acc'])"
      ],
      "metadata": {
        "id": "kJ4dC7jiPiuS"
      },
      "execution_count": 26,
      "outputs": []
    },
    {
      "cell_type": "markdown",
      "source": [
        "### Fitting our model"
      ],
      "metadata": {
        "id": "PNgj9pZBP70U"
      }
    },
    {
      "cell_type": "markdown",
      "source": [
        "The fit_generator method trains the model on the training data (train_generator) for a specified number of epochs, updating the model's weights based on the gradients calculated during each batch"
      ],
      "metadata": {
        "id": "wvekj42BgnYP"
      }
    },
    {
      "cell_type": "code",
      "source": [
        "epochs=1 #it take s14 minutes to run an epoch\n",
        "history=model.fit_generator(train_generator,steps_per_epoch=100,epochs=epochs,validation_data=validation_generator,validation_steps=50)"
      ],
      "metadata": {
        "colab": {
          "base_uri": "https://localhost:8080/"
        },
        "id": "Qso4I0RJPuEG",
        "outputId": "e5b0198c-fe70-4382-d7b9-95066a22a87e"
      },
      "execution_count": 29,
      "outputs": [
        {
          "output_type": "stream",
          "name": "stderr",
          "text": [
            "<ipython-input-29-80920fb2609c>:2: UserWarning: `Model.fit_generator` is deprecated and will be removed in a future version. Please use `Model.fit`, which supports generators.\n",
            "  history=model.fit_generator(train_generator,steps_per_epoch=100,epochs=epochs,validation_data=validation_generator,validation_steps=50)\n"
          ]
        },
        {
          "output_type": "stream",
          "name": "stdout",
          "text": [
            "100/100 [==============================] - 859s 9s/step - loss: 0.2119 - acc: 0.9183 - val_loss: 0.1817 - val_acc: 0.9356\n"
          ]
        }
      ]
    },
    {
      "cell_type": "markdown",
      "source": [
        "### Evaluating our model"
      ],
      "metadata": {
        "id": "X7AB7VdAQGWZ"
      }
    },
    {
      "cell_type": "code",
      "source": [
        "acc=history.history['acc']  ##getting  accuracy of each epochs\n",
        "epochs_=range(0,epochs)\n",
        "plt.plot(epochs_,acc,label='training accuracy')\n",
        "plt.xlabel('no of epochs')\n",
        "plt.ylabel('accuracy')\n",
        "\n",
        "acc_val=history.history['val_acc']  ##getting validation accuracy of each epochs\n",
        "plt.scatter(epochs_,acc_val,label=\"validation accuracy\")\n",
        "plt.title(\"no of epochs vs accuracy\")\n",
        "plt.legend()"
      ],
      "metadata": {
        "colab": {
          "base_uri": "https://localhost:8080/",
          "height": 489
        },
        "id": "YfrymGmaQC4X",
        "outputId": "7cb4c288-1e03-4c0f-f74b-c2244055d595"
      },
      "execution_count": 30,
      "outputs": [
        {
          "output_type": "execute_result",
          "data": {
            "text/plain": [
              "<matplotlib.legend.Legend at 0x79c4189e9450>"
            ]
          },
          "metadata": {},
          "execution_count": 30
        },
        {
          "output_type": "display_data",
          "data": {
            "text/plain": [
              "<Figure size 640x480 with 1 Axes>"
            ],
            "image/png": "[encoded data removed]"
          },
          "metadata": {}
        }
      ]
    },
    {
      "cell_type": "code",
      "source": [
        "acc=history.history['loss']    ##getting  loss of each epochs\n",
        "epochs_=range(0,epochs)\n",
        "plt.plot(epochs_,acc,label='training loss')\n",
        "plt.xlabel('No of epochs')\n",
        "plt.ylabel('loss')\n",
        "\n",
        "acc_val=history.history['val_loss']  ## getting validation loss of each epochs\n",
        "plt.scatter(epochs_,acc_val,label=\"validation loss\")\n",
        "plt.title('no of epochs vs loss')\n",
        "plt.legend()"
      ],
      "metadata": {
        "colab": {
          "base_uri": "https://localhost:8080/",
          "height": 489
        },
        "id": "xF-eTs-yQLa6",
        "outputId": "13276866-729b-45cd-c60e-311328cf41d5"
      },
      "execution_count": 31,
      "outputs": [
        {
          "output_type": "execute_result",
          "data": {
            "text/plain": [
              "<matplotlib.legend.Legend at 0x79c41af022c0>"
            ]
          },
          "metadata": {},
          "execution_count": 31
        },
        {
          "output_type": "display_data",
          "data": {
            "text/plain": [
              "<Figure size 640x480 with 1 Axes>"
            ],
            "image/png": "[encoded data removed]"
          },
          "metadata": {}
        }
      ]
    },
    {
      "cell_type": "markdown",
      "source": [
        "### Improving our model using VGG16"
      ],
      "metadata": {
        "id": "FAd0oXApQaXr"
      }
    },
    {
      "cell_type": "code",
      "source": [
        "model_vg=VGG16(weights='imagenet',include_top=False)\n",
        "model_vg.summary()"
      ],
      "metadata": {
        "colab": {
          "base_uri": "https://localhost:8080/"
        },
        "id": "di8Fb7hPQXaN",
        "outputId": "2d19591e-cdb5-41e8-80e0-2233713bf56e"
      },
      "execution_count": 32,
      "outputs": [
        {
          "output_type": "stream",
          "name": "stdout",
          "text": [
            "Downloading data from https://storage.googleapis.com/tensorflow/keras-applications/vgg16/vgg16_weights_tf_dim_ordering_tf_kernels_notop.h5\n",
            "58889256/58889256 [==============================] - 3s 0us/step\n",
            "Model: \"vgg16\"\n",
            "_________________________________________________________________\n",
            " Layer (type)                Output Shape              Param #   \n",
            "=================================================================\n",
            " input_1 (InputLayer)        [(None, None, None, 3)]   0         \n",
            "                                                                 \n",
            " block1_conv1 (Conv2D)       (None, None, None, 64)    1792      \n",
            "                                                                 \n",
            " block1_conv2 (Conv2D)       (None, None, None, 64)    36928     \n",
            "                                                                 \n",
            " block1_pool (MaxPooling2D)  (None, None, None, 64)    0         \n",
            "                                                                 \n",
            " block2_conv1 (Conv2D)       (None, None, None, 128)   73856     \n",
            "                                                                 \n",
            " block2_conv2 (Conv2D)       (None, None, None, 128)   147584    \n",
            "                                                                 \n",
            " block2_pool (MaxPooling2D)  (None, None, None, 128)   0         \n",
            "                                                                 \n",
            " block3_conv1 (Conv2D)       (None, None, None, 256)   295168    \n",
            "                                                                 \n",
            " block3_conv2 (Conv2D)       (None, None, None, 256)   590080    \n",
            "                                                                 \n",
            " block3_conv3 (Conv2D)       (None, None, None, 256)   590080    \n",
            "                                                                 \n",
            " block3_pool (MaxPooling2D)  (None, None, None, 256)   0         \n",
            "                                                                 \n",
            " block4_conv1 (Conv2D)       (None, None, None, 512)   1180160   \n",
            "                                                                 \n",
            " block4_conv2 (Conv2D)       (None, None, None, 512)   2359808   \n",
            "                                                                 \n",
            " block4_conv3 (Conv2D)       (None, None, None, 512)   2359808   \n",
            "                                                                 \n",
            " block4_pool (MaxPooling2D)  (None, None, None, 512)   0         \n",
            "                                                                 \n",
            " block5_conv1 (Conv2D)       (None, None, None, 512)   2359808   \n",
            "                                                                 \n",
            " block5_conv2 (Conv2D)       (None, None, None, 512)   2359808   \n",
            "                                                                 \n",
            " block5_conv3 (Conv2D)       (None, None, None, 512)   2359808   \n",
            "                                                                 \n",
            " block5_pool (MaxPooling2D)  (None, None, None, 512)   0         \n",
            "                                                                 \n",
            "=================================================================\n",
            "Total params: 14714688 (56.13 MB)\n",
            "Trainable params: 14714688 (56.13 MB)\n",
            "Non-trainable params: 0 (0.00 Byte)\n",
            "_________________________________________________________________\n"
          ]
        }
      ]
    },
    {
      "cell_type": "markdown",
      "source": [
        "### Extracting features using VGG16"
      ],
      "metadata": {
        "id": "9-LUcVBfQicl"
      }
    },
    {
      "cell_type": "code",
      "source": [
        "def extract_features(directory,samples,df):\n",
        "\n",
        "\n",
        "    features=np.zeros(shape=(samples,4,4,512))\n",
        "    labels=np.zeros(shape=(samples))\n",
        "    generator=datagen.flow_from_dataframe(dataframe=df,directory=directory,x_col='id',\n",
        "                                            y_col='has_cactus',class_mode='other',batch_size=batch_size,\n",
        "                                            target_size=(150,150))\n",
        "    i=0\n",
        "    for input_batch,label_batch in generator:\n",
        "        feature_batch=model_vg.predict(input_batch)\n",
        "        features[i*batch_size:(i+1)*batch_size]=feature_batch\n",
        "        labels[i*batch_size:(i+1)*batch_size]=label_batch\n",
        "        i+=1\n",
        "        if(i*batch_size>samples):\n",
        "            break\n",
        "    return(features,labels)\n",
        "\n",
        "train.has_cactus=train.has_cactus.astype(int)\n",
        "features,labels=extract_features(train_dir,17500,train)\n",
        "train_features=features[:15001]\n",
        "train_labels=labels[:15001]\n",
        "\n",
        "validation_features=features[15000:]\n",
        "validation_labels=labels[15000:]"
      ],
      "metadata": {
        "colab": {
          "base_uri": "https://localhost:8080/"
        },
        "id": "ZrqKdZMFQedV",
        "outputId": "c166d649-8508-409a-e8de-5ea9462e36eb"
      },
      "execution_count": null,
      "outputs": [
        {
          "output_type": "stream",
          "name": "stdout",
          "text": [
            "Found 17500 validated image filenames.\n",
            "5/5 [==============================] - 39s 8s/step\n",
            "5/5 [==============================] - 39s 8s/step\n",
            "5/5 [==============================] - 41s 8s/step\n",
            "5/5 [==============================] - 39s 8s/step\n",
            "5/5 [==============================] - 41s 8s/step\n",
            "5/5 [==============================] - 38s 8s/step\n",
            "5/5 [==============================] - 41s 8s/step\n",
            "5/5 [==============================] - 39s 8s/step\n",
            "5/5 [==============================] - 39s 8s/step\n",
            "5/5 [==============================] - 41s 8s/step\n",
            "5/5 [==============================] - 41s 8s/step\n",
            "5/5 [==============================] - 39s 8s/step\n",
            "5/5 [==============================] - 41s 8s/step\n",
            "5/5 [==============================] - 39s 8s/step\n",
            "5/5 [==============================] - 40s 8s/step\n",
            "5/5 [==============================] - 41s 8s/step\n",
            "5/5 [==============================] - 39s 8s/step\n",
            "5/5 [==============================] - 40s 8s/step\n",
            "5/5 [==============================] - 42s 8s/step\n",
            "5/5 [==============================] - 40s 8s/step\n",
            "5/5 [==============================] - 42s 8s/step\n",
            "5/5 [==============================] - 41s 8s/step\n",
            "5/5 [==============================] - 41s 8s/step\n",
            "5/5 [==============================] - 41s 8s/step\n",
            "5/5 [==============================] - 42s 8s/step\n",
            "5/5 [==============================] - 41s 8s/step\n",
            "5/5 [==============================] - 46s 10s/step\n",
            "5/5 [==============================] - 46s 9s/step\n",
            "5/5 [==============================] - 42s 8s/step\n",
            "5/5 [==============================] - 39s 8s/step\n",
            "5/5 [==============================] - 40s 8s/step\n",
            "5/5 [==============================] - 41s 8s/step\n",
            "5/5 [==============================] - 42s 9s/step\n",
            "5/5 [==============================] - 40s 8s/step\n",
            "5/5 [==============================] - 42s 8s/step\n",
            "5/5 [==============================] - 48s 9s/step\n",
            "5/5 [==============================] - 47s 10s/step\n",
            "5/5 [==============================] - 46s 9s/step\n",
            "5/5 [==============================] - 50s 10s/step\n",
            "5/5 [==============================] - 43s 9s/step\n",
            "5/5 [==============================] - 39s 8s/step\n",
            "5/5 [==============================] - 41s 8s/step\n",
            "5/5 [==============================] - 39s 8s/step\n",
            "5/5 [==============================] - 40s 8s/step\n",
            "5/5 [==============================] - 41s 8s/step\n",
            "5/5 [==============================] - 39s 8s/step\n",
            "5/5 [==============================] - 42s 8s/step\n",
            "5/5 [==============================] - 40s 8s/step\n",
            "5/5 [==============================] - 38s 8s/step\n",
            "5/5 [==============================] - 41s 8s/step\n",
            "5/5 [==============================] - 39s 8s/step\n",
            "5/5 [==============================] - 42s 8s/step\n",
            "5/5 [==============================] - 41s 8s/step\n",
            "5/5 [==============================] - 39s 8s/step\n",
            "5/5 [==============================] - 41s 8s/step\n",
            "5/5 [==============================] - 40s 8s/step\n",
            "5/5 [==============================] - 39s 8s/step\n",
            "5/5 [==============================] - 41s 8s/step\n",
            "5/5 [==============================] - 38s 8s/step\n",
            "5/5 [==============================] - 41s 8s/step\n",
            "5/5 [==============================] - 39s 8s/step\n",
            "5/5 [==============================] - 39s 8s/step\n",
            "5/5 [==============================] - 41s 8s/step\n",
            "5/5 [==============================] - 39s 8s/step\n",
            "5/5 [==============================] - 40s 8s/step\n",
            "5/5 [==============================] - 40s 8s/step\n",
            "5/5 [==============================] - 38s 8s/step\n",
            "5/5 [==============================] - 41s 8s/step\n",
            "5/5 [==============================] - 38s 8s/step\n",
            "5/5 [==============================] - 41s 8s/step\n",
            "5/5 [==============================] - 39s 8s/step\n",
            "5/5 [==============================] - 39s 8s/step\n",
            "5/5 [==============================] - 41s 8s/step\n",
            "5/5 [==============================] - 40s 8s/step\n",
            "5/5 [==============================] - 39s 8s/step\n",
            "5/5 [==============================] - 41s 8s/step\n",
            "5/5 [==============================] - 38s 8s/step\n",
            "5/5 [==============================] - 40s 8s/step\n",
            "5/5 [==============================] - 39s 8s/step\n",
            "5/5 [==============================] - 40s 8s/step\n",
            "5/5 [==============================] - 40s 8s/step\n",
            "5/5 [==============================] - 38s 8s/step\n",
            "5/5 [==============================] - 41s 8s/step\n",
            "5/5 [==============================] - 38s 8s/step\n",
            "5/5 [==============================] - 39s 8s/step\n",
            "5/5 [==============================] - 41s 8s/step\n",
            "5/5 [==============================] - 38s 8s/step\n",
            "5/5 [==============================] - 41s 8s/step\n",
            "5/5 [==============================] - 39s 8s/step\n",
            "5/5 [==============================] - 38s 8s/step\n",
            "5/5 [==============================] - 40s 8s/step\n",
            "5/5 [==============================] - 38s 8s/step\n",
            "5/5 [==============================] - 40s 8s/step\n",
            "5/5 [==============================] - 38s 8s/step\n",
            "5/5 [==============================] - 41s 8s/step\n",
            "5/5 [==============================] - 38s 8s/step\n",
            "5/5 [==============================] - 41s 8s/step\n",
            "5/5 [==============================] - 39s 8s/step\n",
            "5/5 [==============================] - 40s 8s/step\n",
            "5/5 [==============================] - 41s 8s/step\n",
            "5/5 [==============================] - 40s 8s/step\n",
            "5/5 [==============================] - 40s 8s/step\n",
            "5/5 [==============================] - 39s 8s/step\n",
            "5/5 [==============================] - 40s 8s/step\n",
            "5/5 [==============================] - 39s 8s/step\n",
            "5/5 [==============================] - 40s 8s/step\n",
            "5/5 [==============================] - 40s 8s/step\n",
            "5/5 [==============================] - 38s 8s/step\n",
            "5/5 [==============================] - 41s 8s/step\n",
            "5/5 [==============================] - 38s 8s/step\n",
            "5/5 [==============================] - 41s 8s/step\n",
            "4/5 [=======================>......] - ETA: 8s "
          ]
        }
      ]
    },
    {
      "cell_type": "markdown",
      "source": [
        "### Reshaping our features to feed into our dense layers"
      ],
      "metadata": {
        "id": "DYbkkctDQvTh"
      }
    },
    {
      "cell_type": "code",
      "source": [
        "#df_test.has_cactus=df_test.has_cactus.astype(str)\n",
        "test_features,test_labels=extract_features(test_dir,4000,df_test)"
      ],
      "metadata": {
        "colab": {
          "base_uri": "https://localhost:8080/"
        },
        "id": "n2JGRrSxQprP",
        "outputId": "155ff8fa-38b5-4982-cd36-bf630ef53c3c"
      },
      "execution_count": 38,
      "outputs": [
        {
          "output_type": "stream",
          "name": "stdout",
          "text": [
            "Found 4000 validated image filenames.\n",
            "5/5 [==============================] - 66s 12s/step\n",
            "5/5 [==============================] - 41s 8s/step\n",
            "5/5 [==============================] - 40s 8s/step\n",
            "5/5 [==============================] - 41s 8s/step\n",
            "5/5 [==============================] - 40s 8s/step\n",
            "5/5 [==============================] - 40s 8s/step\n",
            "5/5 [==============================] - 40s 8s/step\n",
            "5/5 [==============================] - 38s 8s/step\n",
            "5/5 [==============================] - 41s 8s/step\n",
            "5/5 [==============================] - 38s 8s/step\n",
            "5/5 [==============================] - 39s 8s/step\n",
            "5/5 [==============================] - 41s 8s/step\n",
            "5/5 [==============================] - 39s 8s/step\n",
            "5/5 [==============================] - 41s 8s/step\n",
            "5/5 [==============================] - 39s 8s/step\n",
            "5/5 [==============================] - 39s 8s/step\n",
            "5/5 [==============================] - 41s 8s/step\n",
            "5/5 [==============================] - 39s 8s/step\n",
            "5/5 [==============================] - 41s 8s/step\n",
            "5/5 [==============================] - 40s 8s/step\n",
            "5/5 [==============================] - 38s 8s/step\n",
            "5/5 [==============================] - 41s 8s/step\n",
            "5/5 [==============================] - 39s 8s/step\n",
            "5/5 [==============================] - 41s 8s/step\n",
            "5/5 [==============================] - 38s 8s/step\n",
            "5/5 [==============================] - 38s 8s/step\n",
            "4/4 [==============================] - 27s 6s/step\n"
          ]
        }
      ]
    },
    {
      "cell_type": "code",
      "source": [
        "train_features=train_features.reshape((15001,4*4*512))\n",
        "validation_features=validation_features.reshape((2500,4*4*512))\n",
        "\n",
        "test_features=test_features.reshape((4000,4*4*512))"
      ],
      "metadata": {
        "id": "MdWjSF6EQzmj"
      },
      "execution_count": 39,
      "outputs": []
    },
    {
      "cell_type": "markdown",
      "source": [
        "### Define a densely connected network"
      ],
      "metadata": {
        "id": "kdXavrxEQ3Lc"
      }
    },
    {
      "cell_type": "code",
      "source": [
        "model=models.Sequential()\n",
        "model.add(layers.Dense(212,activation='relu',kernel_regularizer=regularizers.l1_l2(.001),input_dim=(4*4*512)))\n",
        "model.add(layers.Dropout(0.2))\n",
        "model.add(layers.Dense(1,activation='sigmoid'))"
      ],
      "metadata": {
        "id": "6yLOsVc1Q0vl"
      },
      "execution_count": 40,
      "outputs": []
    },
    {
      "cell_type": "code",
      "source": [
        "model.compile(optimizer='rmsprop',loss='binary_crossentropy',metrics=['acc'])"
      ],
      "metadata": {
        "id": "E3Q5EcMgQ6Qr"
      },
      "execution_count": 42,
      "outputs": []
    },
    {
      "cell_type": "code",
      "source": [
        "history=model.fit(train_features,train_labels,epochs=1,batch_size=15,validation_data=(validation_features,validation_labels))"
      ],
      "metadata": {
        "colab": {
          "base_uri": "https://localhost:8080/"
        },
        "id": "cnLe5GrFQ8WS",
        "outputId": "fb8b2e0a-7895-48b1-d6f2-93c0cf89da60"
      },
      "execution_count": 43,
      "outputs": [
        {
          "output_type": "stream",
          "name": "stdout",
          "text": [
            "1001/1001 [==============================] - 38s 38ms/step - loss: 1.4706 - acc: 0.8969 - val_loss: 1.1489 - val_acc: 0.9044\n"
          ]
        }
      ]
    },
    {
      "cell_type": "markdown",
      "source": [
        "### Making prediction"
      ],
      "metadata": {
        "id": "NlDNc_nDRJqQ"
      }
    },
    {
      "cell_type": "code",
      "source": [
        "y_pre=model.predict(test_features)"
      ],
      "metadata": {
        "colab": {
          "base_uri": "https://localhost:8080/"
        },
        "id": "ilcaaVWmRBnl",
        "outputId": "bfb2c320-a75f-4965-ee31-10a9028d16c7"
      },
      "execution_count": 45,
      "outputs": [
        {
          "output_type": "stream",
          "name": "stdout",
          "text": [
            "125/125 [==============================] - 1s 6ms/step\n"
          ]
        }
      ]
    },
    {
      "cell_type": "markdown",
      "source": [
        "### Making a submission"
      ],
      "metadata": {
        "id": "wpbe0V8ERPtQ"
      }
    },
    {
      "cell_type": "code",
      "source": [
        "df=pd.DataFrame({'id':df_test['id'] })\n",
        "df['has_cactus']=y_pre\n",
        "# df.to_csv(\"submission.csv\",index=False)"
      ],
      "metadata": {
        "id": "RG442M4uRNxY"
      },
      "execution_count": 46,
      "outputs": []
    },
    {
      "cell_type": "code",
      "source": [
        "df"
      ],
      "metadata": {
        "colab": {
          "base_uri": "https://localhost:8080/",
          "height": 423
        },
        "id": "ih8MiHj5RUwx",
        "outputId": "c4a153e4-40a0-4a17-f929-9f6895caeb5c"
      },
      "execution_count": 47,
      "outputs": [
        {
          "output_type": "execute_result",
          "data": {
            "text/plain": [
              "                                        id  has_cactus\n",
              "0     000940378805c44108d287872b2f04ce.jpg    0.997956\n",
              "1     0017242f54ececa4512b4d7937d1e21e.jpg    0.349863\n",
              "2     001ee6d8564003107853118ab87df407.jpg    0.987237\n",
              "3     002e175c3c1e060769475f52182583d0.jpg    0.997701\n",
              "4     0036e44a7e8f7218e9bc7bf8137e4943.jpg    0.808206\n",
              "...                                    ...         ...\n",
              "3995  ffaafd0c9f2f0e73172848463bc2e523.jpg    0.271354\n",
              "3996  ffae37344310a1549162493237d25d3f.jpg    0.996019\n",
              "3997  ffbd469c56873d064326204aac546e0d.jpg    0.999792\n",
              "3998  ffcb76b7d47f29ece11c751e5f763f52.jpg    0.999553\n",
              "3999  fffed17d1a8e0433a934db518d7f532c.jpg    0.998193\n",
              "\n",
              "[4000 rows x 2 columns]"
            ],
            "text/html": [
              "\n",
              "  <div id=\"df-5b7f9758-96bf-4562-8a1f-ba4047948c54\" class=\"colab-df-container\">\n",
              "    <div>\n",
              "<style scoped>\n",
              "    .dataframe tbody tr th:only-of-type {\n",
              "        vertical-align: middle;\n",
              "    }\n",
              "\n",
              "    .dataframe tbody tr th {\n",
              "        vertical-align: top;\n",
              "    }\n",
              "\n",
              "    .dataframe thead th {\n",
              "        text-align: right;\n",
              "    }\n",
              "</style>\n",
              "<table border=\"1\" class=\"dataframe\">\n",
              "  <thead>\n",
              "    <tr style=\"text-align: right;\">\n",
              "      <th></th>\n",
              "      <th>id</th>\n",
              "      <th>has_cactus</th>\n",
              "    </tr>\n",
              "  </thead>\n",
              "  <tbody>\n",
              "    <tr>\n",
              "      <th>0</th>\n",
              "      <td>000940378805c44108d287872b2f04ce.jpg</td>\n",
              "      <td>0.997956</td>\n",
              "    </tr>\n",
              "    <tr>\n",
              "      <th>1</th>\n",
              "      <td>0017242f54ececa4512b4d7937d1e21e.jpg</td>\n",
              "      <td>0.349863</td>\n",
              "    </tr>\n",
              "    <tr>\n",
              "      <th>2</th>\n",
              "      <td>001ee6d8564003107853118ab87df407.jpg</td>\n",
              "      <td>0.987237</td>\n",
              "    </tr>\n",
              "    <tr>\n",
              "      <th>3</th>\n",
              "      <td>002e175c3c1e060769475f52182583d0.jpg</td>\n",
              "      <td>0.997701</td>\n",
              "    </tr>\n",
              "    <tr>\n",
              "      <th>4</th>\n",
              "      <td>0036e44a7e8f7218e9bc7bf8137e4943.jpg</td>\n",
              "      <td>0.808206</td>\n",
              "    </tr>\n",
              "    <tr>\n",
              "      <th>...</th>\n",
              "      <td>...</td>\n",
              "      <td>...</td>\n",
              "    </tr>\n",
              "    <tr>\n",
              "      <th>3995</th>\n",
              "      <td>ffaafd0c9f2f0e73172848463bc2e523.jpg</td>\n",
              "      <td>0.271354</td>\n",
              "    </tr>\n",
              "    <tr>\n",
              "      <th>3996</th>\n",
              "      <td>ffae37344310a1549162493237d25d3f.jpg</td>\n",
              "      <td>0.996019</td>\n",
              "    </tr>\n",
              "    <tr>\n",
              "      <th>3997</th>\n",
              "      <td>ffbd469c56873d064326204aac546e0d.jpg</td>\n",
              "      <td>0.999792</td>\n",
              "    </tr>\n",
              "    <tr>\n",
              "      <th>3998</th>\n",
              "      <td>ffcb76b7d47f29ece11c751e5f763f52.jpg</td>\n",
              "      <td>0.999553</td>\n",
              "    </tr>\n",
              "    <tr>\n",
              "      <th>3999</th>\n",
              "      <td>fffed17d1a8e0433a934db518d7f532c.jpg</td>\n",
              "      <td>0.998193</td>\n",
              "    </tr>\n",
              "  </tbody>\n",
              "</table>\n",
              "<p>4000 rows × 2 columns</p>\n",
              "</div>\n",
              "    <div class=\"colab-df-buttons\">\n",
              "\n",
              "  <div class=\"colab-df-container\">\n",
              "    <button class=\"colab-df-convert\" onclick=\"convertToInteractive('df-5b7f9758-96bf-4562-8a1f-ba4047948c54')\"\n",
              "            title=\"Convert this dataframe to an interactive table.\"\n",
              "            style=\"display:none;\">\n",
              "\n",
              "  <svg xmlns=\"http://www.w3.org/2000/svg\" height=\"24px\" viewBox=\"0 -960 960 960\">\n",
              "    <path d=\"M120-120v-720h720v720H120Zm60-500h600v-160H180v160Zm220 220h160v-160H400v160Zm0 220h160v-160H400v160ZM180-400h160v-160H180v160Zm440 0h160v-160H620v160ZM180-180h160v-160H180v160Zm440 0h160v-160H620v160Z\"/>\n",
              "  </svg>\n",
              "    </button>\n",
              "\n",
              "  <style>\n",
              "    .colab-df-container {\n",
              "      display:flex;\n",
              "      gap: 12px;\n",
              "    }\n",
              "\n",
              "    .colab-df-convert {\n",
              "      background-color: #E8F0FE;\n",
              "      border: none;\n",
              "      border-radius: 50%;\n",
              "      cursor: pointer;\n",
              "      display: none;\n",
              "      fill: #1967D2;\n",
              "      height: 32px;\n",
              "      padding: 0 0 0 0;\n",
              "      width: 32px;\n",
              "    }\n",
              "\n",
              "    .colab-df-convert:hover {\n",
              "      background-color: #E2EBFA;\n",
              "      box-shadow: 0px 1px 2px rgba(60, 64, 67, 0.3), 0px 1px 3px 1px rgba(60, 64, 67, 0.15);\n",
              "      fill: #174EA6;\n",
              "    }\n",
              "\n",
              "    .colab-df-buttons div {\n",
              "      margin-bottom: 4px;\n",
              "    }\n",
              "\n",
              "    [theme=dark] .colab-df-convert {\n",
              "      background-color: #3B4455;\n",
              "      fill: #D2E3FC;\n",
              "    }\n",
              "\n",
              "    [theme=dark] .colab-df-convert:hover {\n",
              "      background-color: #434B5C;\n",
              "      box-shadow: 0px 1px 3px 1px rgba(0, 0, 0, 0.15);\n",
              "      filter: drop-shadow(0px 1px 2px rgba(0, 0, 0, 0.3));\n",
              "      fill: #FFFFFF;\n",
              "    }\n",
              "  </style>\n",
              "\n",
              "    <script>\n",
              "      const buttonEl =\n",
              "        document.querySelector('#df-5b7f9758-96bf-4562-8a1f-ba4047948c54 button.colab-df-convert');\n",
              "      buttonEl.style.display =\n",
              "        google.colab.kernel.accessAllowed ? 'block' : 'none';\n",
              "\n",
              "      async function convertToInteractive(key) {\n",
              "        const element = document.querySelector('#df-5b7f9758-96bf-4562-8a1f-ba4047948c54');\n",
              "        const dataTable =\n",
              "          await google.colab.kernel.invokeFunction('convertToInteractive',\n",
              "                                                    [key], {});\n",
              "        if (!dataTable) return;\n",
              "\n",
              "        const docLinkHtml = 'Like what you see? Visit the ' +\n",
              "          '<a target=\"_blank\" href=https://colab.research.google.com/notebooks/data_table.ipynb>data table notebook</a>'\n",
              "          + ' to learn more about interactive tables.';\n",
              "        element.innerHTML = '';\n",
              "        dataTable['output_type'] = 'display_data';\n",
              "        await google.colab.output.renderOutput(dataTable, element);\n",
              "        const docLink = document.createElement('div');\n",
              "        docLink.innerHTML = docLinkHtml;\n",
              "        element.appendChild(docLink);\n",
              "      }\n",
              "    </script>\n",
              "  </div>\n",
              "\n",
              "\n",
              "<div id=\"df-6d50269e-7780-4a6d-a37e-a6c0c743f3c2\">\n",
              "  <button class=\"colab-df-quickchart\" onclick=\"quickchart('df-6d50269e-7780-4a6d-a37e-a6c0c743f3c2')\"\n",
              "            title=\"Suggest charts\"\n",
              "            style=\"display:none;\">\n",
              "\n",
              "<svg xmlns=\"http://www.w3.org/2000/svg\" height=\"24px\"viewBox=\"0 0 24 24\"\n",
              "     width=\"24px\">\n",
              "    <g>\n",
              "        <path d=\"M19 3H5c-1.1 0-2 .9-2 2v14c0 1.1.9 2 2 2h14c1.1 0 2-.9 2-2V5c0-1.1-.9-2-2-2zM9 17H7v-7h2v7zm4 0h-2V7h2v10zm4 0h-2v-4h2v4z\"/>\n",
              "    </g>\n",
              "</svg>\n",
              "  </button>\n",
              "\n",
              "<style>\n",
              "  .colab-df-quickchart {\n",
              "      --bg-color: #E8F0FE;\n",
              "      --fill-color: #1967D2;\n",
              "      --hover-bg-color: #E2EBFA;\n",
              "      --hover-fill-color: #174EA6;\n",
              "      --disabled-fill-color: #AAA;\n",
              "      --disabled-bg-color: #DDD;\n",
              "  }\n",
              "\n",
              "  [theme=dark] .colab-df-quickchart {\n",
              "      --bg-color: #3B4455;\n",
              "      --fill-color: #D2E3FC;\n",
              "      --hover-bg-color: #434B5C;\n",
              "      --hover-fill-color: #FFFFFF;\n",
              "      --disabled-bg-color: #3B4455;\n",
              "      --disabled-fill-color: #666;\n",
              "  }\n",
              "\n",
              "  .colab-df-quickchart {\n",
              "    background-color: var(--bg-color);\n",
              "    border: none;\n",
              "    border-radius: 50%;\n",
              "    cursor: pointer;\n",
              "    display: none;\n",
              "    fill: var(--fill-color);\n",
              "    height: 32px;\n",
              "    padding: 0;\n",
              "    width: 32px;\n",
              "  }\n",
              "\n",
              "  .colab-df-quickchart:hover {\n",
              "    background-color: var(--hover-bg-color);\n",
              "    box-shadow: 0 1px 2px rgba(60, 64, 67, 0.3), 0 1px 3px 1px rgba(60, 64, 67, 0.15);\n",
              "    fill: var(--button-hover-fill-color);\n",
              "  }\n",
              "\n",
              "  .colab-df-quickchart-complete:disabled,\n",
              "  .colab-df-quickchart-complete:disabled:hover {\n",
              "    background-color: var(--disabled-bg-color);\n",
              "    fill: var(--disabled-fill-color);\n",
              "    box-shadow: none;\n",
              "  }\n",
              "\n",
              "  .colab-df-spinner {\n",
              "    border: 2px solid var(--fill-color);\n",
              "    border-color: transparent;\n",
              "    border-bottom-color: var(--fill-color);\n",
              "    animation:\n",
              "      spin 1s steps(1) infinite;\n",
              "  }\n",
              "\n",
              "  @keyframes spin {\n",
              "    0% {\n",
              "      border-color: transparent;\n",
              "      border-bottom-color: var(--fill-color);\n",
              "      border-left-color: var(--fill-color);\n",
              "    }\n",
              "    20% {\n",
              "      border-color: transparent;\n",
              "      border-left-color: var(--fill-color);\n",
              "      border-top-color: var(--fill-color);\n",
              "    }\n",
              "    30% {\n",
              "      border-color: transparent;\n",
              "      border-left-color: var(--fill-color);\n",
              "      border-top-color: var(--fill-color);\n",
              "      border-right-color: var(--fill-color);\n",
              "    }\n",
              "    40% {\n",
              "      border-color: transparent;\n",
              "      border-right-color: var(--fill-color);\n",
              "      border-top-color: var(--fill-color);\n",
              "    }\n",
              "    60% {\n",
              "      border-color: transparent;\n",
              "      border-right-color: var(--fill-color);\n",
              "    }\n",
              "    80% {\n",
              "      border-color: transparent;\n",
              "      border-right-color: var(--fill-color);\n",
              "      border-bottom-color: var(--fill-color);\n",
              "    }\n",
              "    90% {\n",
              "      border-color: transparent;\n",
              "      border-bottom-color: var(--fill-color);\n",
              "    }\n",
              "  }\n",
              "</style>\n",
              "\n",
              "  <script>\n",
              "    async function quickchart(key) {\n",
              "      const quickchartButtonEl =\n",
              "        document.querySelector('#' + key + ' button');\n",
              "      quickchartButtonEl.disabled = true;  // To prevent multiple clicks.\n",
              "      quickchartButtonEl.classList.add('colab-df-spinner');\n",
              "      try {\n",
              "        const charts = await google.colab.kernel.invokeFunction(\n",
              "            'suggestCharts', [key], {});\n",
              "      } catch (error) {\n",
              "        console.error('Error during call to suggestCharts:', error);\n",
              "      }\n",
              "      quickchartButtonEl.classList.remove('colab-df-spinner');\n",
              "      quickchartButtonEl.classList.add('colab-df-quickchart-complete');\n",
              "    }\n",
              "    (() => {\n",
              "      let quickchartButtonEl =\n",
              "        document.querySelector('#df-6d50269e-7780-4a6d-a37e-a6c0c743f3c2 button');\n",
              "      quickchartButtonEl.style.display =\n",
              "        google.colab.kernel.accessAllowed ? 'block' : 'none';\n",
              "    })();\n",
              "  </script>\n",
              "</div>\n",
              "    </div>\n",
              "  </div>\n"
            ]
          },
          "metadata": {},
          "execution_count": 47
        }
      ]
    },
    {
      "cell_type": "code",
      "source": [],
      "metadata": {
        "id": "TiE8RAI_ACl3"
      },
      "execution_count": null,
      "outputs": []
    }
  ]
}
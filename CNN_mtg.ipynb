{
  "nbformat": 4,
  "nbformat_minor": 0,
  "metadata": {
    "colab": {
      "provenance": [],
      "toc_visible": true,
      "authorship_tag": "ABX9TyN5BxVlrRgW7WztuKrQEDrL",
      "include_colab_link": true
    },
    "kernelspec": {
      "name": "python3",
      "display_name": "Python 3"
    },
    "language_info": {
      "name": "python"
    }
  },
  "cells": [
    {
      "cell_type": "markdown",
      "metadata": {
        "id": "view-in-github",
        "colab_type": "text"
      },
      "source": [
        "<a href=\"https://colab.research.google.com/github/menduv/mtg-Jamendo/blob/main/CNN_mtg.ipynb\" target=\"_parent\"><img src=\"https://colab.research.google.com/assets/colab-badge.svg\" alt=\"Open In Colab\"/></a>"
      ]
    },
    {
      "cell_type": "markdown",
      "source": [
        "# CNN model for classification of audio files with genre tags"
      ],
      "metadata": {
        "id": "EH_hCeLoQgGs"
      }
    },
    {
      "cell_type": "code",
      "execution_count": 1,
      "metadata": {
        "id": "3SKzNh0LxEGJ",
        "colab": {
          "base_uri": "https://localhost:8080/"
        },
        "outputId": "23b5ddf0-d301-4995-e407-9ceb1fc5f52b"
      },
      "outputs": [
        {
          "output_type": "stream",
          "name": "stdout",
          "text": [
            "Mounted at /content/drive\n"
          ]
        }
      ],
      "source": [
        "#connecting to google drive\n",
        "from google.colab import drive\n",
        "drive.mount('/content/drive')"
      ]
    },
    {
      "cell_type": "code",
      "source": [
        "#importing the spectrogram images stored in a zip file\n",
        "import zipfile\n",
        "with zipfile.ZipFile(\"/content/drive/MyDrive/colab_data/cropped_archive_22.zip\",\"r\") as zip_ref:\n",
        "    zip_ref.extractall(\"/content/sample_mel\")"
      ],
      "metadata": {
        "id": "ODchbT-XzZka"
      },
      "execution_count": 2,
      "outputs": []
    },
    {
      "cell_type": "code",
      "source": [
        "#importing necessary libraries\n",
        "import numpy as np\n",
        "import pandas as pd\n",
        "pd.options.mode.chained_assignment = None  # default='warn'\n",
        "import os\n",
        "import matplotlib.pyplot as plt\n",
        "from sklearn.model_selection import train_test_split\n",
        "from tensorflow.keras.models import Sequential\n",
        "from tensorflow.keras.layers import Conv2D, MaxPooling2D, Flatten, Dense, Dropout\n",
        "from tensorflow.keras.preprocessing.image import ImageDataGenerator\n",
        "from tensorflow.keras.regularizers import l2\n",
        "from keras.models import load_model"
      ],
      "metadata": {
        "id": "_twkfAbJ2DtV"
      },
      "execution_count": 1,
      "outputs": []
    },
    {
      "cell_type": "code",
      "source": [
        "#checking the no. of spectrograms and their size\n",
        "mel_dir = '/content/sample_mel'\n",
        "mel_list = os.listdir(mel_dir)\n",
        "mel_npy = np.load(f'{mel_dir}/{mel_list[25]}')\n",
        "print('Count of npy files: ', len(mel_list))\n",
        "print('Size of image: ', mel_npy.shape)"
      ],
      "metadata": {
        "colab": {
          "base_uri": "https://localhost:8080/"
        },
        "id": "t4BVZblv1kAl",
        "outputId": "bed60aa4-5824-4389-c849-e9732a077cea"
      },
      "execution_count": 2,
      "outputs": [
        {
          "output_type": "stream",
          "name": "stdout",
          "text": [
            "Count of npy files:  4480\n",
            "Size of image:  (96, 1406)\n"
          ]
        }
      ]
    },
    {
      "cell_type": "markdown",
      "source": [
        "## Loading the mtg dataframe and filtering it to include top 5 genres from the sample"
      ],
      "metadata": {
        "id": "_VTCxGp8b0iX"
      }
    },
    {
      "cell_type": "code",
      "source": [
        "#importing csv that contains the metafile of all the tracks\n",
        "df_all = pd.read_csv('/content/mtg_cleaned.csv', index_col = [0])"
      ],
      "metadata": {
        "id": "qbRryNa92T9L"
      },
      "execution_count": 3,
      "outputs": []
    },
    {
      "cell_type": "code",
      "source": [
        "df_all.head()"
      ],
      "metadata": {
        "colab": {
          "base_uri": "https://localhost:8080/",
          "height": 206
        },
        "id": "HiZFNNXALZFr",
        "outputId": "af537f86-d1ff-42de-f7ea-e3d60b10ca0f"
      },
      "execution_count": 4,
      "outputs": [
        {
          "output_type": "execute_result",
          "data": {
            "text/plain": [
              "   track_id  artist_id  album_id        path  duration     genre instrument  \\\n",
              "1       214         14        31  14/214.mp3     124.6  punkrock        NaN   \n",
              "2       215         14        31  15/215.mp3     151.4     metal        NaN   \n",
              "3       216         14        31  16/216.mp3     234.9     metal        NaN   \n",
              "4       217         14        31  17/217.mp3     127.9  punkrock        NaN   \n",
              "5       218         14        31  18/218.mp3     180.7  punkrock        NaN   \n",
              "\n",
              "  mood  \n",
              "1  NaN  \n",
              "2  NaN  \n",
              "3  NaN  \n",
              "4  NaN  \n",
              "5  NaN  "
            ],
            "text/html": [
              "\n",
              "  <div id=\"df-1c95037b-f6b3-40c9-893a-12518e69227b\" class=\"colab-df-container\">\n",
              "    <div>\n",
              "<style scoped>\n",
              "    .dataframe tbody tr th:only-of-type {\n",
              "        vertical-align: middle;\n",
              "    }\n",
              "\n",
              "    .dataframe tbody tr th {\n",
              "        vertical-align: top;\n",
              "    }\n",
              "\n",
              "    .dataframe thead th {\n",
              "        text-align: right;\n",
              "    }\n",
              "</style>\n",
              "<table border=\"1\" class=\"dataframe\">\n",
              "  <thead>\n",
              "    <tr style=\"text-align: right;\">\n",
              "      <th></th>\n",
              "      <th>track_id</th>\n",
              "      <th>artist_id</th>\n",
              "      <th>album_id</th>\n",
              "      <th>path</th>\n",
              "      <th>duration</th>\n",
              "      <th>genre</th>\n",
              "      <th>instrument</th>\n",
              "      <th>mood</th>\n",
              "    </tr>\n",
              "  </thead>\n",
              "  <tbody>\n",
              "    <tr>\n",
              "      <th>1</th>\n",
              "      <td>214</td>\n",
              "      <td>14</td>\n",
              "      <td>31</td>\n",
              "      <td>14/214.mp3</td>\n",
              "      <td>124.6</td>\n",
              "      <td>punkrock</td>\n",
              "      <td>NaN</td>\n",
              "      <td>NaN</td>\n",
              "    </tr>\n",
              "    <tr>\n",
              "      <th>2</th>\n",
              "      <td>215</td>\n",
              "      <td>14</td>\n",
              "      <td>31</td>\n",
              "      <td>15/215.mp3</td>\n",
              "      <td>151.4</td>\n",
              "      <td>metal</td>\n",
              "      <td>NaN</td>\n",
              "      <td>NaN</td>\n",
              "    </tr>\n",
              "    <tr>\n",
              "      <th>3</th>\n",
              "      <td>216</td>\n",
              "      <td>14</td>\n",
              "      <td>31</td>\n",
              "      <td>16/216.mp3</td>\n",
              "      <td>234.9</td>\n",
              "      <td>metal</td>\n",
              "      <td>NaN</td>\n",
              "      <td>NaN</td>\n",
              "    </tr>\n",
              "    <tr>\n",
              "      <th>4</th>\n",
              "      <td>217</td>\n",
              "      <td>14</td>\n",
              "      <td>31</td>\n",
              "      <td>17/217.mp3</td>\n",
              "      <td>127.9</td>\n",
              "      <td>punkrock</td>\n",
              "      <td>NaN</td>\n",
              "      <td>NaN</td>\n",
              "    </tr>\n",
              "    <tr>\n",
              "      <th>5</th>\n",
              "      <td>218</td>\n",
              "      <td>14</td>\n",
              "      <td>31</td>\n",
              "      <td>18/218.mp3</td>\n",
              "      <td>180.7</td>\n",
              "      <td>punkrock</td>\n",
              "      <td>NaN</td>\n",
              "      <td>NaN</td>\n",
              "    </tr>\n",
              "  </tbody>\n",
              "</table>\n",
              "</div>\n",
              "    <div class=\"colab-df-buttons\">\n",
              "\n",
              "  <div class=\"colab-df-container\">\n",
              "    <button class=\"colab-df-convert\" onclick=\"convertToInteractive('df-1c95037b-f6b3-40c9-893a-12518e69227b')\"\n",
              "            title=\"Convert this dataframe to an interactive table.\"\n",
              "            style=\"display:none;\">\n",
              "\n",
              "  <svg xmlns=\"http://www.w3.org/2000/svg\" height=\"24px\" viewBox=\"0 -960 960 960\">\n",
              "    <path d=\"M120-120v-720h720v720H120Zm60-500h600v-160H180v160Zm220 220h160v-160H400v160Zm0 220h160v-160H400v160ZM180-400h160v-160H180v160Zm440 0h160v-160H620v160ZM180-180h160v-160H180v160Zm440 0h160v-160H620v160Z\"/>\n",
              "  </svg>\n",
              "    </button>\n",
              "\n",
              "  <style>\n",
              "    .colab-df-container {\n",
              "      display:flex;\n",
              "      gap: 12px;\n",
              "    }\n",
              "\n",
              "    .colab-df-convert {\n",
              "      background-color: #E8F0FE;\n",
              "      border: none;\n",
              "      border-radius: 50%;\n",
              "      cursor: pointer;\n",
              "      display: none;\n",
              "      fill: #1967D2;\n",
              "      height: 32px;\n",
              "      padding: 0 0 0 0;\n",
              "      width: 32px;\n",
              "    }\n",
              "\n",
              "    .colab-df-convert:hover {\n",
              "      background-color: #E2EBFA;\n",
              "      box-shadow: 0px 1px 2px rgba(60, 64, 67, 0.3), 0px 1px 3px 1px rgba(60, 64, 67, 0.15);\n",
              "      fill: #174EA6;\n",
              "    }\n",
              "\n",
              "    .colab-df-buttons div {\n",
              "      margin-bottom: 4px;\n",
              "    }\n",
              "\n",
              "    [theme=dark] .colab-df-convert {\n",
              "      background-color: #3B4455;\n",
              "      fill: #D2E3FC;\n",
              "    }\n",
              "\n",
              "    [theme=dark] .colab-df-convert:hover {\n",
              "      background-color: #434B5C;\n",
              "      box-shadow: 0px 1px 3px 1px rgba(0, 0, 0, 0.15);\n",
              "      filter: drop-shadow(0px 1px 2px rgba(0, 0, 0, 0.3));\n",
              "      fill: #FFFFFF;\n",
              "    }\n",
              "  </style>\n",
              "\n",
              "    <script>\n",
              "      const buttonEl =\n",
              "        document.querySelector('#df-1c95037b-f6b3-40c9-893a-12518e69227b button.colab-df-convert');\n",
              "      buttonEl.style.display =\n",
              "        google.colab.kernel.accessAllowed ? 'block' : 'none';\n",
              "\n",
              "      async function convertToInteractive(key) {\n",
              "        const element = document.querySelector('#df-1c95037b-f6b3-40c9-893a-12518e69227b');\n",
              "        const dataTable =\n",
              "          await google.colab.kernel.invokeFunction('convertToInteractive',\n",
              "                                                    [key], {});\n",
              "        if (!dataTable) return;\n",
              "\n",
              "        const docLinkHtml = 'Like what you see? Visit the ' +\n",
              "          '<a target=\"_blank\" href=https://colab.research.google.com/notebooks/data_table.ipynb>data table notebook</a>'\n",
              "          + ' to learn more about interactive tables.';\n",
              "        element.innerHTML = '';\n",
              "        dataTable['output_type'] = 'display_data';\n",
              "        await google.colab.output.renderOutput(dataTable, element);\n",
              "        const docLink = document.createElement('div');\n",
              "        docLink.innerHTML = docLinkHtml;\n",
              "        element.appendChild(docLink);\n",
              "      }\n",
              "    </script>\n",
              "  </div>\n",
              "\n",
              "\n",
              "<div id=\"df-dbeb84af-8b4b-4822-ae0c-e8c703fd1339\">\n",
              "  <button class=\"colab-df-quickchart\" onclick=\"quickchart('df-dbeb84af-8b4b-4822-ae0c-e8c703fd1339')\"\n",
              "            title=\"Suggest charts\"\n",
              "            style=\"display:none;\">\n",
              "\n",
              "<svg xmlns=\"http://www.w3.org/2000/svg\" height=\"24px\"viewBox=\"0 0 24 24\"\n",
              "     width=\"24px\">\n",
              "    <g>\n",
              "        <path d=\"M19 3H5c-1.1 0-2 .9-2 2v14c0 1.1.9 2 2 2h14c1.1 0 2-.9 2-2V5c0-1.1-.9-2-2-2zM9 17H7v-7h2v7zm4 0h-2V7h2v10zm4 0h-2v-4h2v4z\"/>\n",
              "    </g>\n",
              "</svg>\n",
              "  </button>\n",
              "\n",
              "<style>\n",
              "  .colab-df-quickchart {\n",
              "      --bg-color: #E8F0FE;\n",
              "      --fill-color: #1967D2;\n",
              "      --hover-bg-color: #E2EBFA;\n",
              "      --hover-fill-color: #174EA6;\n",
              "      --disabled-fill-color: #AAA;\n",
              "      --disabled-bg-color: #DDD;\n",
              "  }\n",
              "\n",
              "  [theme=dark] .colab-df-quickchart {\n",
              "      --bg-color: #3B4455;\n",
              "      --fill-color: #D2E3FC;\n",
              "      --hover-bg-color: #434B5C;\n",
              "      --hover-fill-color: #FFFFFF;\n",
              "      --disabled-bg-color: #3B4455;\n",
              "      --disabled-fill-color: #666;\n",
              "  }\n",
              "\n",
              "  .colab-df-quickchart {\n",
              "    background-color: var(--bg-color);\n",
              "    border: none;\n",
              "    border-radius: 50%;\n",
              "    cursor: pointer;\n",
              "    display: none;\n",
              "    fill: var(--fill-color);\n",
              "    height: 32px;\n",
              "    padding: 0;\n",
              "    width: 32px;\n",
              "  }\n",
              "\n",
              "  .colab-df-quickchart:hover {\n",
              "    background-color: var(--hover-bg-color);\n",
              "    box-shadow: 0 1px 2px rgba(60, 64, 67, 0.3), 0 1px 3px 1px rgba(60, 64, 67, 0.15);\n",
              "    fill: var(--button-hover-fill-color);\n",
              "  }\n",
              "\n",
              "  .colab-df-quickchart-complete:disabled,\n",
              "  .colab-df-quickchart-complete:disabled:hover {\n",
              "    background-color: var(--disabled-bg-color);\n",
              "    fill: var(--disabled-fill-color);\n",
              "    box-shadow: none;\n",
              "  }\n",
              "\n",
              "  .colab-df-spinner {\n",
              "    border: 2px solid var(--fill-color);\n",
              "    border-color: transparent;\n",
              "    border-bottom-color: var(--fill-color);\n",
              "    animation:\n",
              "      spin 1s steps(1) infinite;\n",
              "  }\n",
              "\n",
              "  @keyframes spin {\n",
              "    0% {\n",
              "      border-color: transparent;\n",
              "      border-bottom-color: var(--fill-color);\n",
              "      border-left-color: var(--fill-color);\n",
              "    }\n",
              "    20% {\n",
              "      border-color: transparent;\n",
              "      border-left-color: var(--fill-color);\n",
              "      border-top-color: var(--fill-color);\n",
              "    }\n",
              "    30% {\n",
              "      border-color: transparent;\n",
              "      border-left-color: var(--fill-color);\n",
              "      border-top-color: var(--fill-color);\n",
              "      border-right-color: var(--fill-color);\n",
              "    }\n",
              "    40% {\n",
              "      border-color: transparent;\n",
              "      border-right-color: var(--fill-color);\n",
              "      border-top-color: var(--fill-color);\n",
              "    }\n",
              "    60% {\n",
              "      border-color: transparent;\n",
              "      border-right-color: var(--fill-color);\n",
              "    }\n",
              "    80% {\n",
              "      border-color: transparent;\n",
              "      border-right-color: var(--fill-color);\n",
              "      border-bottom-color: var(--fill-color);\n",
              "    }\n",
              "    90% {\n",
              "      border-color: transparent;\n",
              "      border-bottom-color: var(--fill-color);\n",
              "    }\n",
              "  }\n",
              "</style>\n",
              "\n",
              "  <script>\n",
              "    async function quickchart(key) {\n",
              "      const quickchartButtonEl =\n",
              "        document.querySelector('#' + key + ' button');\n",
              "      quickchartButtonEl.disabled = true;  // To prevent multiple clicks.\n",
              "      quickchartButtonEl.classList.add('colab-df-spinner');\n",
              "      try {\n",
              "        const charts = await google.colab.kernel.invokeFunction(\n",
              "            'suggestCharts', [key], {});\n",
              "      } catch (error) {\n",
              "        console.error('Error during call to suggestCharts:', error);\n",
              "      }\n",
              "      quickchartButtonEl.classList.remove('colab-df-spinner');\n",
              "      quickchartButtonEl.classList.add('colab-df-quickchart-complete');\n",
              "    }\n",
              "    (() => {\n",
              "      let quickchartButtonEl =\n",
              "        document.querySelector('#df-dbeb84af-8b4b-4822-ae0c-e8c703fd1339 button');\n",
              "      quickchartButtonEl.style.display =\n",
              "        google.colab.kernel.accessAllowed ? 'block' : 'none';\n",
              "    })();\n",
              "  </script>\n",
              "</div>\n",
              "    </div>\n",
              "  </div>\n"
            ]
          },
          "metadata": {},
          "execution_count": 4
        }
      ]
    },
    {
      "cell_type": "code",
      "source": [
        "#list of all the track_ids in the sample zip file\n",
        "track_ids = [int(file_name.replace('.npy', '')) for file_name in mel_list]\n",
        "\n",
        "#filtering only those tracks to the dataset\n",
        "df = df_all[df_all['track_id'].isin(track_ids)]\n",
        "\n",
        "#only taking the first genre from the genre column\n",
        "df['genre'] = df['genre'].str.split(',').str[0]\n",
        "\n",
        "#only keeping the tracks and genre column\n",
        "df = df[['track_id', 'genre']]"
      ],
      "metadata": {
        "id": "Zn6shezZLitE"
      },
      "execution_count": 5,
      "outputs": []
    },
    {
      "cell_type": "code",
      "source": [
        "#calculating the most frequent genres in the sample and only keeping the top five in the df\n",
        "genre_count = pd.DataFrame(df.genre.value_counts().rename_axis('genre').reset_index(name='counts'))\n",
        "\n",
        "#list of top five genres\n",
        "top_genres = list(genre_count.genre[:10])\n",
        "\n",
        "#filtering df to only keep\n",
        "df = df[df['genre'].isin(top_genres)].sort_values(by = 'track_id', ascending = True).reset_index(drop = True)\n",
        "\n",
        "df"
      ],
      "metadata": {
        "colab": {
          "base_uri": "https://localhost:8080/",
          "height": 423
        },
        "id": "cRuX2XfHXWh9",
        "outputId": "952895af-012b-4f0d-d2fa-37f9521e0163"
      },
      "execution_count": 6,
      "outputs": [
        {
          "output_type": "execute_result",
          "data": {
            "text/plain": [
              "      track_id     genre\n",
              "0         6606     dance\n",
              "1         6607     dance\n",
              "2         6608     dance\n",
              "3         6609     dance\n",
              "4         6610     dance\n",
              "...        ...       ...\n",
              "3096   1420700  chillout\n",
              "3097   1420704     dance\n",
              "3098   1420705     dance\n",
              "3099   1420706     dance\n",
              "3100   1420707  chillout\n",
              "\n",
              "[3101 rows x 2 columns]"
            ],
            "text/html": [
              "\n",
              "  <div id=\"df-b2275094-9093-4518-8da6-81b3581ded37\" class=\"colab-df-container\">\n",
              "    <div>\n",
              "<style scoped>\n",
              "    .dataframe tbody tr th:only-of-type {\n",
              "        vertical-align: middle;\n",
              "    }\n",
              "\n",
              "    .dataframe tbody tr th {\n",
              "        vertical-align: top;\n",
              "    }\n",
              "\n",
              "    .dataframe thead th {\n",
              "        text-align: right;\n",
              "    }\n",
              "</style>\n",
              "<table border=\"1\" class=\"dataframe\">\n",
              "  <thead>\n",
              "    <tr style=\"text-align: right;\">\n",
              "      <th></th>\n",
              "      <th>track_id</th>\n",
              "      <th>genre</th>\n",
              "    </tr>\n",
              "  </thead>\n",
              "  <tbody>\n",
              "    <tr>\n",
              "      <th>0</th>\n",
              "      <td>6606</td>\n",
              "      <td>dance</td>\n",
              "    </tr>\n",
              "    <tr>\n",
              "      <th>1</th>\n",
              "      <td>6607</td>\n",
              "      <td>dance</td>\n",
              "    </tr>\n",
              "    <tr>\n",
              "      <th>2</th>\n",
              "      <td>6608</td>\n",
              "      <td>dance</td>\n",
              "    </tr>\n",
              "    <tr>\n",
              "      <th>3</th>\n",
              "      <td>6609</td>\n",
              "      <td>dance</td>\n",
              "    </tr>\n",
              "    <tr>\n",
              "      <th>4</th>\n",
              "      <td>6610</td>\n",
              "      <td>dance</td>\n",
              "    </tr>\n",
              "    <tr>\n",
              "      <th>...</th>\n",
              "      <td>...</td>\n",
              "      <td>...</td>\n",
              "    </tr>\n",
              "    <tr>\n",
              "      <th>3096</th>\n",
              "      <td>1420700</td>\n",
              "      <td>chillout</td>\n",
              "    </tr>\n",
              "    <tr>\n",
              "      <th>3097</th>\n",
              "      <td>1420704</td>\n",
              "      <td>dance</td>\n",
              "    </tr>\n",
              "    <tr>\n",
              "      <th>3098</th>\n",
              "      <td>1420705</td>\n",
              "      <td>dance</td>\n",
              "    </tr>\n",
              "    <tr>\n",
              "      <th>3099</th>\n",
              "      <td>1420706</td>\n",
              "      <td>dance</td>\n",
              "    </tr>\n",
              "    <tr>\n",
              "      <th>3100</th>\n",
              "      <td>1420707</td>\n",
              "      <td>chillout</td>\n",
              "    </tr>\n",
              "  </tbody>\n",
              "</table>\n",
              "<p>3101 rows × 2 columns</p>\n",
              "</div>\n",
              "    <div class=\"colab-df-buttons\">\n",
              "\n",
              "  <div class=\"colab-df-container\">\n",
              "    <button class=\"colab-df-convert\" onclick=\"convertToInteractive('df-b2275094-9093-4518-8da6-81b3581ded37')\"\n",
              "            title=\"Convert this dataframe to an interactive table.\"\n",
              "            style=\"display:none;\">\n",
              "\n",
              "  <svg xmlns=\"http://www.w3.org/2000/svg\" height=\"24px\" viewBox=\"0 -960 960 960\">\n",
              "    <path d=\"M120-120v-720h720v720H120Zm60-500h600v-160H180v160Zm220 220h160v-160H400v160Zm0 220h160v-160H400v160ZM180-400h160v-160H180v160Zm440 0h160v-160H620v160ZM180-180h160v-160H180v160Zm440 0h160v-160H620v160Z\"/>\n",
              "  </svg>\n",
              "    </button>\n",
              "\n",
              "  <style>\n",
              "    .colab-df-container {\n",
              "      display:flex;\n",
              "      gap: 12px;\n",
              "    }\n",
              "\n",
              "    .colab-df-convert {\n",
              "      background-color: #E8F0FE;\n",
              "      border: none;\n",
              "      border-radius: 50%;\n",
              "      cursor: pointer;\n",
              "      display: none;\n",
              "      fill: #1967D2;\n",
              "      height: 32px;\n",
              "      padding: 0 0 0 0;\n",
              "      width: 32px;\n",
              "    }\n",
              "\n",
              "    .colab-df-convert:hover {\n",
              "      background-color: #E2EBFA;\n",
              "      box-shadow: 0px 1px 2px rgba(60, 64, 67, 0.3), 0px 1px 3px 1px rgba(60, 64, 67, 0.15);\n",
              "      fill: #174EA6;\n",
              "    }\n",
              "\n",
              "    .colab-df-buttons div {\n",
              "      margin-bottom: 4px;\n",
              "    }\n",
              "\n",
              "    [theme=dark] .colab-df-convert {\n",
              "      background-color: #3B4455;\n",
              "      fill: #D2E3FC;\n",
              "    }\n",
              "\n",
              "    [theme=dark] .colab-df-convert:hover {\n",
              "      background-color: #434B5C;\n",
              "      box-shadow: 0px 1px 3px 1px rgba(0, 0, 0, 0.15);\n",
              "      filter: drop-shadow(0px 1px 2px rgba(0, 0, 0, 0.3));\n",
              "      fill: #FFFFFF;\n",
              "    }\n",
              "  </style>\n",
              "\n",
              "    <script>\n",
              "      const buttonEl =\n",
              "        document.querySelector('#df-b2275094-9093-4518-8da6-81b3581ded37 button.colab-df-convert');\n",
              "      buttonEl.style.display =\n",
              "        google.colab.kernel.accessAllowed ? 'block' : 'none';\n",
              "\n",
              "      async function convertToInteractive(key) {\n",
              "        const element = document.querySelector('#df-b2275094-9093-4518-8da6-81b3581ded37');\n",
              "        const dataTable =\n",
              "          await google.colab.kernel.invokeFunction('convertToInteractive',\n",
              "                                                    [key], {});\n",
              "        if (!dataTable) return;\n",
              "\n",
              "        const docLinkHtml = 'Like what you see? Visit the ' +\n",
              "          '<a target=\"_blank\" href=https://colab.research.google.com/notebooks/data_table.ipynb>data table notebook</a>'\n",
              "          + ' to learn more about interactive tables.';\n",
              "        element.innerHTML = '';\n",
              "        dataTable['output_type'] = 'display_data';\n",
              "        await google.colab.output.renderOutput(dataTable, element);\n",
              "        const docLink = document.createElement('div');\n",
              "        docLink.innerHTML = docLinkHtml;\n",
              "        element.appendChild(docLink);\n",
              "      }\n",
              "    </script>\n",
              "  </div>\n",
              "\n",
              "\n",
              "<div id=\"df-59d2049f-ec4c-4009-85e6-7bac7aab4abd\">\n",
              "  <button class=\"colab-df-quickchart\" onclick=\"quickchart('df-59d2049f-ec4c-4009-85e6-7bac7aab4abd')\"\n",
              "            title=\"Suggest charts\"\n",
              "            style=\"display:none;\">\n",
              "\n",
              "<svg xmlns=\"http://www.w3.org/2000/svg\" height=\"24px\"viewBox=\"0 0 24 24\"\n",
              "     width=\"24px\">\n",
              "    <g>\n",
              "        <path d=\"M19 3H5c-1.1 0-2 .9-2 2v14c0 1.1.9 2 2 2h14c1.1 0 2-.9 2-2V5c0-1.1-.9-2-2-2zM9 17H7v-7h2v7zm4 0h-2V7h2v10zm4 0h-2v-4h2v4z\"/>\n",
              "    </g>\n",
              "</svg>\n",
              "  </button>\n",
              "\n",
              "<style>\n",
              "  .colab-df-quickchart {\n",
              "      --bg-color: #E8F0FE;\n",
              "      --fill-color: #1967D2;\n",
              "      --hover-bg-color: #E2EBFA;\n",
              "      --hover-fill-color: #174EA6;\n",
              "      --disabled-fill-color: #AAA;\n",
              "      --disabled-bg-color: #DDD;\n",
              "  }\n",
              "\n",
              "  [theme=dark] .colab-df-quickchart {\n",
              "      --bg-color: #3B4455;\n",
              "      --fill-color: #D2E3FC;\n",
              "      --hover-bg-color: #434B5C;\n",
              "      --hover-fill-color: #FFFFFF;\n",
              "      --disabled-bg-color: #3B4455;\n",
              "      --disabled-fill-color: #666;\n",
              "  }\n",
              "\n",
              "  .colab-df-quickchart {\n",
              "    background-color: var(--bg-color);\n",
              "    border: none;\n",
              "    border-radius: 50%;\n",
              "    cursor: pointer;\n",
              "    display: none;\n",
              "    fill: var(--fill-color);\n",
              "    height: 32px;\n",
              "    padding: 0;\n",
              "    width: 32px;\n",
              "  }\n",
              "\n",
              "  .colab-df-quickchart:hover {\n",
              "    background-color: var(--hover-bg-color);\n",
              "    box-shadow: 0 1px 2px rgba(60, 64, 67, 0.3), 0 1px 3px 1px rgba(60, 64, 67, 0.15);\n",
              "    fill: var(--button-hover-fill-color);\n",
              "  }\n",
              "\n",
              "  .colab-df-quickchart-complete:disabled,\n",
              "  .colab-df-quickchart-complete:disabled:hover {\n",
              "    background-color: var(--disabled-bg-color);\n",
              "    fill: var(--disabled-fill-color);\n",
              "    box-shadow: none;\n",
              "  }\n",
              "\n",
              "  .colab-df-spinner {\n",
              "    border: 2px solid var(--fill-color);\n",
              "    border-color: transparent;\n",
              "    border-bottom-color: var(--fill-color);\n",
              "    animation:\n",
              "      spin 1s steps(1) infinite;\n",
              "  }\n",
              "\n",
              "  @keyframes spin {\n",
              "    0% {\n",
              "      border-color: transparent;\n",
              "      border-bottom-color: var(--fill-color);\n",
              "      border-left-color: var(--fill-color);\n",
              "    }\n",
              "    20% {\n",
              "      border-color: transparent;\n",
              "      border-left-color: var(--fill-color);\n",
              "      border-top-color: var(--fill-color);\n",
              "    }\n",
              "    30% {\n",
              "      border-color: transparent;\n",
              "      border-left-color: var(--fill-color);\n",
              "      border-top-color: var(--fill-color);\n",
              "      border-right-color: var(--fill-color);\n",
              "    }\n",
              "    40% {\n",
              "      border-color: transparent;\n",
              "      border-right-color: var(--fill-color);\n",
              "      border-top-color: var(--fill-color);\n",
              "    }\n",
              "    60% {\n",
              "      border-color: transparent;\n",
              "      border-right-color: var(--fill-color);\n",
              "    }\n",
              "    80% {\n",
              "      border-color: transparent;\n",
              "      border-right-color: var(--fill-color);\n",
              "      border-bottom-color: var(--fill-color);\n",
              "    }\n",
              "    90% {\n",
              "      border-color: transparent;\n",
              "      border-bottom-color: var(--fill-color);\n",
              "    }\n",
              "  }\n",
              "</style>\n",
              "\n",
              "  <script>\n",
              "    async function quickchart(key) {\n",
              "      const quickchartButtonEl =\n",
              "        document.querySelector('#' + key + ' button');\n",
              "      quickchartButtonEl.disabled = true;  // To prevent multiple clicks.\n",
              "      quickchartButtonEl.classList.add('colab-df-spinner');\n",
              "      try {\n",
              "        const charts = await google.colab.kernel.invokeFunction(\n",
              "            'suggestCharts', [key], {});\n",
              "      } catch (error) {\n",
              "        console.error('Error during call to suggestCharts:', error);\n",
              "      }\n",
              "      quickchartButtonEl.classList.remove('colab-df-spinner');\n",
              "      quickchartButtonEl.classList.add('colab-df-quickchart-complete');\n",
              "    }\n",
              "    (() => {\n",
              "      let quickchartButtonEl =\n",
              "        document.querySelector('#df-59d2049f-ec4c-4009-85e6-7bac7aab4abd button');\n",
              "      quickchartButtonEl.style.display =\n",
              "        google.colab.kernel.accessAllowed ? 'block' : 'none';\n",
              "    })();\n",
              "  </script>\n",
              "</div>\n",
              "    </div>\n",
              "  </div>\n"
            ]
          },
          "metadata": {},
          "execution_count": 6
        }
      ]
    },
    {
      "cell_type": "code",
      "source": [
        "#List of all the track_ids that are in the sample and have top5\n",
        "train_track_ids = list(df['track_id'].values)"
      ],
      "metadata": {
        "id": "rgxV4ammN1MI"
      },
      "execution_count": 7,
      "outputs": []
    },
    {
      "cell_type": "code",
      "source": [
        "train_track_ids[:5]"
      ],
      "metadata": {
        "colab": {
          "base_uri": "https://localhost:8080/"
        },
        "id": "9M3C6kOS6KqY",
        "outputId": "eeb2b433-70e3-4f88-85ab-7097ebc418c0"
      },
      "execution_count": 8,
      "outputs": [
        {
          "output_type": "execute_result",
          "data": {
            "text/plain": [
              "[6606, 6607, 6608, 6609, 6610]"
            ]
          },
          "metadata": {},
          "execution_count": 8
        }
      ]
    },
    {
      "cell_type": "markdown",
      "source": [
        "### Cropping mel-spectrograms to the size (96, 1406)"
      ],
      "metadata": {
        "id": "cwekxYqDbq7h"
      }
    },
    {
      "cell_type": "code",
      "source": [
        "!mkdir '/content/cropped_mel'"
      ],
      "metadata": {
        "id": "NfQaZWNJ8xl8"
      },
      "execution_count": null,
      "outputs": []
    },
    {
      "cell_type": "code",
      "source": [
        "def crop_melspectrogram(mel_spectrogram, target_frames, hop_size):\n",
        "    # Crop or pad the mel spectrogram to the target number of frames\n",
        "    if mel_spectrogram.shape[1] >= target_frames:\n",
        "        cropped_mel_spectrogram = mel_spectrogram[:, :target_frames]\n",
        "    else:\n",
        "        # Pad with zeros if the original length is less than the target\n",
        "        padding = np.zeros((mel_spectrogram.shape[0], target_frames - mel_spectrogram.shape[1]))\n",
        "        cropped_mel_spectrogram = np.hstack((mel_spectrogram, padding))\n",
        "\n",
        "    return cropped_mel_spectrogram\n"
      ],
      "metadata": {
        "id": "1RHXFmk18q2p"
      },
      "execution_count": null,
      "outputs": []
    },
    {
      "cell_type": "code",
      "source": [
        "folder_path = '/content/sample_mel'\n",
        "cropped_folder_path = '/content/cropped_mel'\n",
        "\n",
        "# Assuming the hop size used during mel spectrogram calculation\n",
        "hop_size = 256\n",
        "sample_rate = 12000\n",
        "\n",
        "# Calculate the target number of frames based on the desired duration (e.g., 30 seconds)\n",
        "desired_duration_seconds = 30\n",
        "target_frames = int(desired_duration_seconds * (1 / (hop_size / sample_rate)))\n",
        "\n",
        "# Iterate over files in the folder\n",
        "for filename in train_track_ids:\n",
        "    file_path = os.path.join(folder_path, str(filename) +'.npy')\n",
        "\n",
        "    mel_spectrogram = np.load(file_path)\n",
        "\n",
        "    cropped_mel_spectrogram = crop_melspectrogram(mel_spectrogram, target_frames, hop_size)\n",
        "\n",
        "    np.save(os.path.join(cropped_folder_path, str(filename)), cropped_mel_spectrogram)"
      ],
      "metadata": {
        "id": "9e2_-zzh-Bvl"
      },
      "execution_count": null,
      "outputs": []
    },
    {
      "cell_type": "code",
      "source": [
        "print('The number of cropped mel-spectrogram in the cropped_mel folder is:',len(os.listdir('/content/cropped_mel')))"
      ],
      "metadata": {
        "colab": {
          "base_uri": "https://localhost:8080/"
        },
        "id": "vgtvu_Ck_vJt",
        "outputId": "41e2d20e-fed4-4f27-9e25-9c284bd26393"
      },
      "execution_count": null,
      "outputs": [
        {
          "output_type": "stream",
          "name": "stdout",
          "text": [
            "The number of cropped mel-spectrogram in the cropped_mel folder is: 1016\n"
          ]
        }
      ]
    },
    {
      "cell_type": "code",
      "source": [
        "'''To display cropped and original mels'''\n",
        "\n",
        "# crop_mel_307 = np.load('/content/cropped_mel/1001307.npy')\n",
        "# mel_307 = np.load('/content/sample_mel/1001307.npy')\n",
        "\n",
        "# plt.imshow(crop_mel_307, aspect='auto')\n",
        "# plt.xlabel('Time')\n",
        "# plt.ylabel('Mel Frequency Bin')\n",
        "# plt.title('Mel-Spectrogram')\n",
        "# plt.colorbar()\n",
        "# plt.show()\n",
        "\n",
        "# plt.imshow(mel_307, aspect='auto')\n",
        "# plt.xlabel('Time')\n",
        "# plt.ylabel('Mel Frequency Bin')\n",
        "# plt.title('Mel-Spectrogram')\n",
        "# plt.colorbar()\n",
        "# plt.show()"
      ],
      "metadata": {
        "id": "2cw7TCPuW2N3"
      },
      "execution_count": null,
      "outputs": []
    },
    {
      "cell_type": "markdown",
      "source": [
        "# Training the model"
      ],
      "metadata": {
        "id": "9EQkgGg9q3v_"
      }
    },
    {
      "cell_type": "code",
      "source": [
        "#loading the cropped .npy files\n",
        "\n",
        "folder_path_mel = '/content/sample_mel'\n",
        "filenames = os.listdir(folder_path_mel)\n",
        "\n",
        "data = []\n",
        "i = 0\n",
        "\n",
        "for filename in train_track_ids:\n",
        "  filename_npy = str(filename) + '.npy'\n",
        "  file_path = os.path.join(folder_path_mel, filename_npy)\n",
        "  data.append(np.load(file_path))\n",
        "  if i < 10 :\n",
        "    print(filename)\n",
        "  i = i+1\n",
        "\n",
        "data = np.array(data)\n"
      ],
      "metadata": {
        "id": "mWzklUIEAxTy",
        "colab": {
          "base_uri": "https://localhost:8080/"
        },
        "outputId": "f04e4bc7-e734-4aa8-80b5-5d69135f6d66"
      },
      "execution_count": 9,
      "outputs": [
        {
          "output_type": "stream",
          "name": "stdout",
          "text": [
            "6606\n",
            "6607\n",
            "6608\n",
            "6609\n",
            "6610\n",
            "6611\n",
            "6719\n",
            "6720\n",
            "6721\n",
            "6722\n"
          ]
        }
      ]
    },
    {
      "cell_type": "code",
      "source": [
        "#normalize data\n",
        "data = data.astype('float32')/255.0"
      ],
      "metadata": {
        "id": "TyQ564hXAxNh"
      },
      "execution_count": 10,
      "outputs": []
    },
    {
      "cell_type": "code",
      "source": [
        "# Reshape data to include the channel dimension\n",
        "data = data.reshape((-1, 96, 1406, 1))\n",
        "\n",
        "# Split data into training and validation sets\n",
        "X_train, X_val, y_train, y_val = train_test_split(data, pd.get_dummies(df['genre']), test_size=0.2, random_state=42)"
      ],
      "metadata": {
        "id": "avcBh83EUv2h"
      },
      "execution_count": 11,
      "outputs": []
    },
    {
      "cell_type": "code",
      "source": [
        "# Data augmentation\n",
        "datagen = ImageDataGenerator(\n",
        "    rotation_range=20,\n",
        "    width_shift_range=0.2,\n",
        "    height_shift_range=0.2,\n",
        "    horizontal_flip=True\n",
        ")\n",
        "\n",
        "datagen.fit(X_train)"
      ],
      "metadata": {
        "id": "d7GwoDyDUvyv"
      },
      "execution_count": 12,
      "outputs": []
    },
    {
      "cell_type": "code",
      "source": [
        "# Define num_classes based on the number of unique genres\n",
        "num_classes = y_train.shape[1]"
      ],
      "metadata": {
        "id": "rKrZwkL4xXc7"
      },
      "execution_count": 13,
      "outputs": []
    },
    {
      "cell_type": "code",
      "source": [
        "num_classes"
      ],
      "metadata": {
        "colab": {
          "base_uri": "https://localhost:8080/"
        },
        "id": "5uVKCf3eAUkn",
        "outputId": "f4640e78-a3af-4cb7-bb01-67ee76b63eee"
      },
      "execution_count": 14,
      "outputs": [
        {
          "output_type": "execute_result",
          "data": {
            "text/plain": [
              "10"
            ]
          },
          "metadata": {},
          "execution_count": 14
        }
      ]
    },
    {
      "cell_type": "code",
      "source": [
        "# Initialize the model\n",
        "model = Sequential()\n",
        "\n",
        "# Convolutional layers with L2 regularization\n",
        "model.add(Conv2D(32, (3, 3), activation='relu', input_shape=(96, 1406, 1), kernel_regularizer=l2(0.01)))\n",
        "model.add(MaxPooling2D((2, 2)))\n",
        "\n",
        "model.add(Conv2D(64, (3, 3), activation='relu', kernel_regularizer=l2(0.01)))\n",
        "model.add(MaxPooling2D((2, 2)))\n",
        "\n",
        "model.add(Conv2D(128, (3, 3), activation='relu', kernel_regularizer=l2(0.01)))\n",
        "model.add(MaxPooling2D((2, 2)))\n",
        "\n",
        "# Flatten layer\n",
        "model.add(Flatten())\n",
        "\n",
        "# Fully connected layers with L2 regularization\n",
        "model.add(Dense(128, activation='relu', kernel_regularizer=l2(0.01)))\n",
        "model.add(Dropout(0.5))\n",
        "\n",
        "model.add(Dense(num_classes, activation='softmax', kernel_regularizer=l2(0.01)))\n",
        "\n",
        "# Compile the model (use an appropriate optimizer, loss function, and metrics)\n",
        "model.compile(optimizer='adam', loss='categorical_crossentropy', metrics=['accuracy'])\n",
        "\n",
        "# Print the model summary\n",
        "model.summary()"
      ],
      "metadata": {
        "colab": {
          "base_uri": "https://localhost:8080/"
        },
        "id": "GYYjn2sVIz8f",
        "outputId": "d3fb48f7-5c07-4ab9-b9d3-63c299ecb051"
      },
      "execution_count": 15,
      "outputs": [
        {
          "output_type": "stream",
          "name": "stdout",
          "text": [
            "Model: \"sequential\"\n",
            "_________________________________________________________________\n",
            " Layer (type)                Output Shape              Param #   \n",
            "=================================================================\n",
            " conv2d (Conv2D)             (None, 94, 1404, 32)      320       \n",
            "                                                                 \n",
            " max_pooling2d (MaxPooling2  (None, 47, 702, 32)       0         \n",
            " D)                                                              \n",
            "                                                                 \n",
            " conv2d_1 (Conv2D)           (None, 45, 700, 64)       18496     \n",
            "                                                                 \n",
            " max_pooling2d_1 (MaxPoolin  (None, 22, 350, 64)       0         \n",
            " g2D)                                                            \n",
            "                                                                 \n",
            " conv2d_2 (Conv2D)           (None, 20, 348, 128)      73856     \n",
            "                                                                 \n",
            " max_pooling2d_2 (MaxPoolin  (None, 10, 174, 128)      0         \n",
            " g2D)                                                            \n",
            "                                                                 \n",
            " flatten (Flatten)           (None, 222720)            0         \n",
            "                                                                 \n",
            " dense (Dense)               (None, 128)               28508288  \n",
            "                                                                 \n",
            " dropout (Dropout)           (None, 128)               0         \n",
            "                                                                 \n",
            " dense_1 (Dense)             (None, 10)                1290      \n",
            "                                                                 \n",
            "=================================================================\n",
            "Total params: 28602250 (109.11 MB)\n",
            "Trainable params: 28602250 (109.11 MB)\n",
            "Non-trainable params: 0 (0.00 Byte)\n",
            "_________________________________________________________________\n"
          ]
        }
      ]
    },
    {
      "cell_type": "code",
      "source": [
        "# Train model\n",
        "history = model.fit(X_train, y_train, batch_size=32, epochs=10, validation_data=(X_val, y_val))"
      ],
      "metadata": {
        "colab": {
          "base_uri": "https://localhost:8080/"
        },
        "id": "thR_D7ujUvtV",
        "outputId": "ca700e53-173e-401c-dae6-d0cfe7ed8cb7"
      },
      "execution_count": null,
      "outputs": [
        {
          "output_type": "stream",
          "name": "stdout",
          "text": [
            "Epoch 1/10\n",
            "78/78 [==============================] - 767s 10s/step - loss: 3.1024 - accuracy: 0.2343 - val_loss: 2.3848 - val_accuracy: 0.2560\n",
            "Epoch 2/10\n",
            "78/78 [==============================] - 754s 10s/step - loss: 2.3673 - accuracy: 0.2407 - val_loss: 2.2317 - val_accuracy: 0.2609\n",
            "Epoch 3/10\n",
            "78/78 [==============================] - 751s 10s/step - loss: 2.2814 - accuracy: 0.2444 - val_loss: 2.1796 - val_accuracy: 0.2754\n",
            "Epoch 4/10\n",
            "78/78 [==============================] - 749s 10s/step - loss: 2.2056 - accuracy: 0.2415 - val_loss: 2.1162 - val_accuracy: 0.2593\n",
            "Epoch 5/10\n",
            "78/78 [==============================] - 706s 9s/step - loss: 2.1723 - accuracy: 0.2464 - val_loss: 2.0936 - val_accuracy: 0.2625\n",
            "Epoch 6/10\n",
            "78/78 [==============================] - 741s 10s/step - loss: 2.1417 - accuracy: 0.2577 - val_loss: 2.0726 - val_accuracy: 0.2609\n",
            "Epoch 7/10\n",
            "78/78 [==============================] - 742s 10s/step - loss: 2.1223 - accuracy: 0.2556 - val_loss: 2.0700 - val_accuracy: 0.2705\n",
            "Epoch 8/10\n",
            "78/78 [==============================] - 701s 9s/step - loss: 2.1314 - accuracy: 0.2569 - val_loss: 2.0816 - val_accuracy: 0.2802\n",
            "Epoch 9/10\n",
            "78/78 [==============================] - 740s 9s/step - loss: 2.1052 - accuracy: 0.2593 - val_loss: 2.1067 - val_accuracy: 0.2609\n",
            "Epoch 10/10\n",
            "78/78 [==============================] - 741s 9s/step - loss: 2.1025 - accuracy: 0.2782 - val_loss: 2.0504 - val_accuracy: 0.2271\n"
          ]
        }
      ]
    },
    {
      "cell_type": "code",
      "source": [
        "# Train for 10 more epochs\n",
        "history_20 = model.fit(X_train, y_train, batch_size=32, epochs=20, validation_data=(X_val, y_val), initial_epoch=10)"
      ],
      "metadata": {
        "colab": {
          "base_uri": "https://localhost:8080/"
        },
        "id": "n0eSqbAwhDTS",
        "outputId": "8d6e3459-86be-4239-d6c1-06adf285888d"
      },
      "execution_count": null,
      "outputs": [
        {
          "output_type": "stream",
          "name": "stdout",
          "text": [
            "Epoch 11/20\n",
            "78/78 [==============================] - 729s 9s/step - loss: 2.0961 - accuracy: 0.2621 - val_loss: 2.0372 - val_accuracy: 0.2866\n",
            "Epoch 12/20\n",
            "78/78 [==============================] - 744s 10s/step - loss: 2.0911 - accuracy: 0.2754 - val_loss: 2.0261 - val_accuracy: 0.2754\n",
            "Epoch 13/20\n",
            "78/78 [==============================] - 746s 10s/step - loss: 2.0806 - accuracy: 0.2625 - val_loss: 2.0269 - val_accuracy: 0.2882\n",
            "Epoch 14/20\n",
            "78/78 [==============================] - 742s 10s/step - loss: 2.1007 - accuracy: 0.2681 - val_loss: 2.0264 - val_accuracy: 0.2818\n",
            "Epoch 15/20\n",
            "78/78 [==============================] - 741s 10s/step - loss: 2.0791 - accuracy: 0.2839 - val_loss: 2.0271 - val_accuracy: 0.2915\n",
            "Epoch 16/20\n",
            "78/78 [==============================] - 713s 9s/step - loss: 2.0792 - accuracy: 0.2762 - val_loss: 2.0361 - val_accuracy: 0.2866\n",
            "Epoch 17/20\n",
            "78/78 [==============================] - 743s 10s/step - loss: 2.0732 - accuracy: 0.2730 - val_loss: 2.0115 - val_accuracy: 0.2915\n",
            "Epoch 18/20\n",
            "78/78 [==============================] - 745s 10s/step - loss: 2.0681 - accuracy: 0.2815 - val_loss: 2.0132 - val_accuracy: 0.2995\n",
            "Epoch 19/20\n",
            "78/78 [==============================] - 739s 10s/step - loss: 2.0666 - accuracy: 0.2806 - val_loss: 1.9988 - val_accuracy: 0.3043\n",
            "Epoch 20/20\n",
            "78/78 [==============================] - 746s 10s/step - loss: 2.0602 - accuracy: 0.2786 - val_loss: 2.0171 - val_accuracy: 0.3060\n"
          ]
        }
      ]
    },
    {
      "cell_type": "code",
      "source": [
        "# Train for 10 more epochs\n",
        "history_30 = model.fit(X_train, y_train, batch_size=32, epochs=30, validation_data=(X_val, y_val), initial_epoch=20)"
      ],
      "metadata": {
        "colab": {
          "base_uri": "https://localhost:8080/"
        },
        "id": "Y9CtIapt2qL1",
        "outputId": "6f2d6964-d8f0-4aef-d520-bc8c77bf858d"
      },
      "execution_count": null,
      "outputs": [
        {
          "output_type": "stream",
          "name": "stdout",
          "text": [
            "Epoch 21/30\n",
            "78/78 [==============================] - 724s 9s/step - loss: 2.0665 - accuracy: 0.2774 - val_loss: 2.0062 - val_accuracy: 0.2947\n",
            "Epoch 22/30\n",
            "78/78 [==============================] - 730s 9s/step - loss: 2.0690 - accuracy: 0.2750 - val_loss: 2.0093 - val_accuracy: 0.2995\n",
            "Epoch 23/30\n",
            "78/78 [==============================] - 723s 9s/step - loss: 2.0689 - accuracy: 0.2810 - val_loss: 2.0190 - val_accuracy: 0.2866\n",
            "Epoch 24/30\n",
            "78/78 [==============================] - 729s 9s/step - loss: 2.0640 - accuracy: 0.2742 - val_loss: 2.0003 - val_accuracy: 0.3027\n",
            "Epoch 25/30\n",
            "78/78 [==============================] - 727s 9s/step - loss: 2.0514 - accuracy: 0.2843 - val_loss: 1.9912 - val_accuracy: 0.3124\n",
            "Epoch 26/30\n",
            "78/78 [==============================] - 730s 9s/step - loss: 2.0593 - accuracy: 0.2738 - val_loss: 2.0077 - val_accuracy: 0.3043\n",
            "Epoch 27/30\n",
            "78/78 [==============================] - 725s 9s/step - loss: 2.0629 - accuracy: 0.2742 - val_loss: 2.0126 - val_accuracy: 0.3060\n",
            "Epoch 28/30\n",
            "78/78 [==============================] - 691s 9s/step - loss: 2.0557 - accuracy: 0.2766 - val_loss: 1.9861 - val_accuracy: 0.3140\n",
            "Epoch 29/30\n",
            "78/78 [==============================] - 726s 9s/step - loss: 2.0695 - accuracy: 0.2815 - val_loss: 2.0034 - val_accuracy: 0.2963\n",
            "Epoch 30/30\n",
            "78/78 [==============================] - 726s 9s/step - loss: 2.0646 - accuracy: 0.2802 - val_loss: 2.0032 - val_accuracy: 0.2995\n"
          ]
        }
      ]
    },
    {
      "cell_type": "code",
      "source": [
        "# Save the model\n",
        "model.save('/content/drive/MyDrive/colab_data/cnn_3k_l2_30ep.keras')"
      ],
      "metadata": {
        "id": "-j4Mkqae20mE"
      },
      "execution_count": null,
      "outputs": []
    },
    {
      "cell_type": "code",
      "source": [
        "# Load the model\n",
        "loaded_model = load_model('/content/drive/MyDrive/colab_data/cnn_3k_l2_30ep.keras')"
      ],
      "metadata": {
        "id": "fKRlgmfHI3Js"
      },
      "execution_count": 20,
      "outputs": []
    },
    {
      "cell_type": "code",
      "source": [
        "# last val loss and val acc\n",
        "loss, accuracy = model.evaluate(X_val, y_val)\n",
        "print(f'Validation Loss: {loss}, Validation Accuracy: {accuracy}')"
      ],
      "metadata": {
        "colab": {
          "base_uri": "https://localhost:8080/"
        },
        "id": "KHL436svUvrc",
        "outputId": "f1ab42e9-779e-4eee-a620-b984172907f8"
      },
      "execution_count": null,
      "outputs": [
        {
          "output_type": "stream",
          "name": "stdout",
          "text": [
            "20/20 [==============================] - 46s 2s/step - loss: 1.9973 - accuracy: 0.3043\n",
            "Validation Loss: 1.997334361076355, Validation Accuracy: 0.30434781312942505\n"
          ]
        }
      ]
    },
    {
      "cell_type": "code",
      "source": [
        "# Concatenate the old and new history\n",
        "full_history = {}\n",
        "for key in history.history.keys():\n",
        "    full_history[key] = history.history[key] + history_20.history[key] + history_30.history[key]"
      ],
      "metadata": {
        "id": "vTTxD_MshbJw"
      },
      "execution_count": null,
      "outputs": []
    },
    {
      "cell_type": "code",
      "source": [
        "# Plot training loss\n",
        "plt.plot(full_history['loss'], label='Training Loss')\n",
        "plt.plot(full_history['val_loss'], label='Validation Loss')\n",
        "plt.title('Training and Validation Loss')\n",
        "plt.xlabel('Epoch')\n",
        "plt.ylabel('Loss')\n",
        "plt.legend()\n",
        "plt.show()\n",
        "\n",
        "# Plot training accuracy\n",
        "plt.plot(full_history['accuracy'], label='Training Accuracy')\n",
        "plt.plot(full_history['val_accuracy'], label='Validation Accuracy')\n",
        "plt.title('Training and Validation Accuracy')\n",
        "plt.xlabel('Epoch')\n",
        "plt.ylabel('Accuracy')\n",
        "plt.legend()\n",
        "plt.show()\n"
      ],
      "metadata": {
        "id": "nGcI_J4kCThE",
        "colab": {
          "base_uri": "https://localhost:8080/",
          "height": 927
        },
        "outputId": "8c081ab1-34e2-4239-ff2d-038f099d51f0"
      },
      "execution_count": null,
      "outputs": [
        {
          "output_type": "display_data",
          "data": {
            "text/plain": [
              "<Figure size 640x480 with 1 Axes>"
            ],
            "image/png": "[encoded data removed]"
          },
          "metadata": {}
        },
        {
          "output_type": "display_data",
          "data": {
            "text/plain": [
              "<Figure size 640x480 with 1 Axes>"
            ],
            "image/png": "[encoded data removed]"
          },
          "metadata": {}
        }
      ]
    },
    {
      "cell_type": "code",
      "source": [],
      "metadata": {
        "id": "Ipy4fPekSoml"
      },
      "execution_count": null,
      "outputs": []
    },
    {
      "cell_type": "code",
      "source": [],
      "metadata": {
        "id": "FrCroE-OSojF"
      },
      "execution_count": null,
      "outputs": []
    },
    {
      "cell_type": "code",
      "source": [],
      "metadata": {
        "id": "YzhIIWDvESSG"
      },
      "execution_count": null,
      "outputs": []
    },
    {
      "cell_type": "code",
      "source": [],
      "metadata": {
        "id": "RwM0_-ZySZG7"
      },
      "execution_count": null,
      "outputs": []
    },
    {
      "cell_type": "code",
      "source": [],
      "metadata": {
        "id": "bbTduTJlSZDZ"
      },
      "execution_count": null,
      "outputs": []
    },
    {
      "cell_type": "code",
      "source": [],
      "metadata": {
        "id": "SVpRcKz3SZAb"
      },
      "execution_count": null,
      "outputs": []
    },
    {
      "cell_type": "code",
      "source": [
        "'''import matplotlib.pyplot as plt\n",
        "\n",
        "# Define the data\n",
        "epochs = list(range(1, 31))  # Assuming 30 epochs\n",
        "train_loss = [3.1024, 2.3673, 2.2814, 2.2056, 2.1723, 2.1417, 2.1223, 2.1314, 2.1052, 2.1025, 2.0961, 2.0911, 2.0806, 2.1007, 2.0791, 2.0792, 2.0732, 2.0681, 2.0666, 2.0602, 2.0665, 2.0690, 2.0689, 2.0640, 2.0514, 2.0593, 2.0629, 2.0557, 2.0695, 2.0646]\n",
        "val_loss = [2.3848, 2.2317, 2.1796, 2.1162, 2.0936, 2.0726, 2.0700, 2.0816, 2.1067, 2.0504, 2.0372, 2.0261, 2.0269, 2.0264, 2.0271, 2.0361, 2.0115, 2.0132, 1.9988, 2.0171, 2.0062, 2.0093, 2.0190, 2.0003, 1.9912, 2.0077, 2.0126, 1.9861, 2.0034, 2.0032]\n",
        "train_accuracy = [0.2343, 0.2407, 0.2444, 0.2415, 0.2464, 0.2577, 0.2556, 0.2569, 0.2593, 0.2782, 0.2621, 0.2754, 0.2625, 0.2681, 0.2839, 0.2762, 0.2730, 0.2815, 0.2806, 0.2786, 0.2774, 0.2750, 0.2810, 0.2742, 0.2843, 0.2738, 0.2742, 0.2766, 0.2815, 0.2802]\n",
        "val_accuracy = [0.2560, 0.2609, 0.2754, 0.2593, 0.2625, 0.2609, 0.2705, 0.2802, 0.2609, 0.2271, 0.2866, 0.2754, 0.2882, 0.2818, 0.2915, 0.2866, 0.2915, 0.2995, 0.3043, 0.3060, 0.2947, 0.2995, 0.2866, 0.3027, 0.3124, 0.3043, 0.3060, 0.3140, 0.2963, 0.2995]\n",
        "\n",
        "# Plot training & validation accuracy values\n",
        "plt.figure(figsize=(12, 6))\n",
        "plt.subplot(1, 2, 1)\n",
        "plt.plot(epochs, train_accuracy, label='Training Accuracy')\n",
        "plt.plot(epochs, val_accuracy, label='Validation Accuracy')\n",
        "plt.title('Model Accuracy')\n",
        "plt.xlabel('Epoch')\n",
        "plt.ylabel('Accuracy')\n",
        "plt.legend()\n",
        "\n",
        "# Plot training & validation loss values\n",
        "plt.subplot(1, 2, 2)\n",
        "plt.plot(epochs, train_loss, label='Training Loss')\n",
        "plt.plot(epochs, val_loss, label='Validation Loss')\n",
        "plt.title('Model Loss')\n",
        "plt.xlabel('Epoch')\n",
        "plt.ylabel('Loss')\n",
        "plt.legend()\n",
        "\n",
        "plt.tight_layout()\n",
        "plt.show()\n",
        "'''"
      ],
      "metadata": {
        "colab": {
          "base_uri": "https://localhost:8080/",
          "height": 442
        },
        "id": "_MXKl7KEJiBd",
        "outputId": "9bc0418a-9082-4431-dfb5-666b006c229f"
      },
      "execution_count": 22,
      "outputs": [
        {
          "output_type": "display_data",
          "data": {
            "text/plain": [
              "<Figure size 1200x600 with 2 Axes>"
            ],
            "image/png": "[encoded data removed]"
          },
          "metadata": {}
        }
      ]
    },
    {
      "cell_type": "code",
      "source": [
        "#This was without l2 reg\n",
        "\n",
        "'''\n",
        "model = Sequential()\n",
        "\n",
        "# Convolutional layers\n",
        "model.add(Conv2D(32, (3, 3), activation='relu', input_shape=(96, 1406, 1)))\n",
        "model.add(MaxPooling2D((2, 2)))\n",
        "model.add(Conv2D(64, (3, 3), activation='relu'))\n",
        "model.add(MaxPooling2D((2, 2)))\n",
        "model.add(Conv2D(128, (3, 3), activation='relu'))\n",
        "model.add(MaxPooling2D((2, 2)))\n",
        "\n",
        "# Flatten layer to transition from convolutional layers to fully connected layers\n",
        "model.add(Flatten())\n",
        "\n",
        "# Fully connected layers\n",
        "model.add(Dense(256, activation='relu'))\n",
        "model.add(Dropout(0.5))  # Introducing dropout for regularization\n",
        "model.add(Dense(128, activation='relu'))\n",
        "model.add(Dropout(0.5))  # Introducing dropout for regularization\n",
        "\n",
        "# Output layer\n",
        "model.add(Dense(num_classes, activation='softmax'))\n",
        "\n",
        "# Compile the model\n",
        "model.compile(optimizer='adam', loss='categorical_crossentropy', metrics=['accuracy'])\n",
        "\n",
        "# Print model summary for an overview of the architecture\n",
        "model.summary()'''"
      ],
      "metadata": {
        "id": "ggjow7E8q8uh"
      },
      "execution_count": null,
      "outputs": []
    },
    {
      "cell_type": "code",
      "source": [
        "'''\n",
        "import keras\n",
        "# Save the entire model to a file\n",
        "model.save('/content/drive/MyDrive/colab_data/simple_cnn_3kmel.keras')\n",
        "\n",
        "# Load the model back\n",
        "loaded_model = keras.models.load_model('/content/drive/MyDrive/colab_data/simple_cnn_3kmel.keras')'''"
      ],
      "metadata": {
        "id": "z1oebNXYDBHi"
      },
      "execution_count": null,
      "outputs": []
    },
    {
      "cell_type": "code",
      "source": [
        "'''\n",
        "# Plot training loss\n",
        "plt.plot(history.history['loss'], label='Training Loss')\n",
        "plt.plot(history.history['val_loss'], label='Validation Loss')\n",
        "plt.title('Training and Validation Loss')\n",
        "plt.xlabel('Epoch')\n",
        "plt.ylabel('Loss')\n",
        "plt.legend()\n",
        "plt.show()\n",
        "\n",
        "# Plot training accuracy\n",
        "plt.plot(history.history['accuracy'], label='Training Accuracy')\n",
        "plt.plot(history.history['val_accuracy'], label='Validation Accuracy')\n",
        "plt.title('Training and Validation Accuracy')\n",
        "plt.xlabel('Epoch')\n",
        "plt.ylabel('Accuracy')\n",
        "plt.legend()\n",
        "plt.show()\n",
        "'''"
      ],
      "metadata": {
        "id": "8FTyK2MCEMAi"
      },
      "execution_count": null,
      "outputs": []
    }
  ]
}